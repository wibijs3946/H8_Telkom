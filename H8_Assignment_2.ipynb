{
 "cells": [
  {
   "cell_type": "markdown",
   "metadata": {},
   "source": [
    "# Assignment 2 - NYC Property Sales\n",
    "**A year's worth of properties sold on the NYC real estate market**\n",
    "\n",
    "Dalam tugas ini digunakan data dari Kaggle, yaitu \"NYC Property Sales\". Dari data tersebut akan dilakukan analisis descriptive statistics dan inferential statistics untuk menarik kesimpulan dari data tersebut. Analisis akan dilakukan untuk data NYC Property Sale Price pada periode 2016-2017. Analisis mencakup deskriptive statistics sederhana seperti Mean, Median, Mode, Variance, Variance, Standard Deviation, Skewness, Ranges, dan Confidence Interval. Selanjutnya kita akan melakukan hypothesis testing untuk menentukan nilai mean dari Property Sale Price di wilayah/borough Bronx dan Staten Island\n",
    "\n",
    "Secara garis besar, yang akan dilakukan dalam notebook ini adalah sebagai berikut:\n",
    "1. Data Preparation\n",
    "2. Preprocessing Data\n",
    "3. Descriptive Statistics\n",
    "4. Hypothesis Testing"
   ]
  },
  {
   "cell_type": "markdown",
   "metadata": {},
   "source": [
    "## Data Preparation"
   ]
  },
  {
   "cell_type": "code",
   "execution_count": 1,
   "metadata": {},
   "outputs": [],
   "source": [
    "# Import library yang dibutuhkan\n",
    "import pandas as pd\n",
    "import numpy as np\n",
    "import matplotlib.pyplot as plt\n",
    "import seaborn as sns\n",
    "import pandas_profiling\n",
    "import pickle\n",
    "import scipy.stats as st\n",
    "import statsmodels.api as sm\n",
    "\n",
    "%matplotlib inline"
   ]
  },
  {
   "cell_type": "code",
   "execution_count": 2,
   "metadata": {},
   "outputs": [
    {
     "data": {
      "text/html": [
       "<div>\n",
       "<style scoped>\n",
       "    .dataframe tbody tr th:only-of-type {\n",
       "        vertical-align: middle;\n",
       "    }\n",
       "\n",
       "    .dataframe tbody tr th {\n",
       "        vertical-align: top;\n",
       "    }\n",
       "\n",
       "    .dataframe thead th {\n",
       "        text-align: right;\n",
       "    }\n",
       "</style>\n",
       "<table border=\"1\" class=\"dataframe\">\n",
       "  <thead>\n",
       "    <tr style=\"text-align: right;\">\n",
       "      <th></th>\n",
       "      <th>Unnamed: 0</th>\n",
       "      <th>BOROUGH</th>\n",
       "      <th>NEIGHBORHOOD</th>\n",
       "      <th>BUILDING CLASS CATEGORY</th>\n",
       "      <th>TAX CLASS AT PRESENT</th>\n",
       "      <th>BLOCK</th>\n",
       "      <th>LOT</th>\n",
       "      <th>EASE-MENT</th>\n",
       "      <th>BUILDING CLASS AT PRESENT</th>\n",
       "      <th>ADDRESS</th>\n",
       "      <th>...</th>\n",
       "      <th>RESIDENTIAL UNITS</th>\n",
       "      <th>COMMERCIAL UNITS</th>\n",
       "      <th>TOTAL UNITS</th>\n",
       "      <th>LAND SQUARE FEET</th>\n",
       "      <th>GROSS SQUARE FEET</th>\n",
       "      <th>YEAR BUILT</th>\n",
       "      <th>TAX CLASS AT TIME OF SALE</th>\n",
       "      <th>BUILDING CLASS AT TIME OF SALE</th>\n",
       "      <th>SALE PRICE</th>\n",
       "      <th>SALE DATE</th>\n",
       "    </tr>\n",
       "  </thead>\n",
       "  <tbody>\n",
       "    <tr>\n",
       "      <th>0</th>\n",
       "      <td>4</td>\n",
       "      <td>1</td>\n",
       "      <td>ALPHABET CITY</td>\n",
       "      <td>07 RENTALS - WALKUP APARTMENTS</td>\n",
       "      <td>2A</td>\n",
       "      <td>392</td>\n",
       "      <td>6</td>\n",
       "      <td></td>\n",
       "      <td>C2</td>\n",
       "      <td>153 AVENUE B</td>\n",
       "      <td>...</td>\n",
       "      <td>5</td>\n",
       "      <td>0</td>\n",
       "      <td>5</td>\n",
       "      <td>1633</td>\n",
       "      <td>6440</td>\n",
       "      <td>1900</td>\n",
       "      <td>2</td>\n",
       "      <td>C2</td>\n",
       "      <td>6625000</td>\n",
       "      <td>2017-07-19 00:00:00</td>\n",
       "    </tr>\n",
       "    <tr>\n",
       "      <th>1</th>\n",
       "      <td>5</td>\n",
       "      <td>1</td>\n",
       "      <td>ALPHABET CITY</td>\n",
       "      <td>07 RENTALS - WALKUP APARTMENTS</td>\n",
       "      <td>2</td>\n",
       "      <td>399</td>\n",
       "      <td>26</td>\n",
       "      <td></td>\n",
       "      <td>C7</td>\n",
       "      <td>234 EAST 4TH   STREET</td>\n",
       "      <td>...</td>\n",
       "      <td>28</td>\n",
       "      <td>3</td>\n",
       "      <td>31</td>\n",
       "      <td>4616</td>\n",
       "      <td>18690</td>\n",
       "      <td>1900</td>\n",
       "      <td>2</td>\n",
       "      <td>C7</td>\n",
       "      <td>-</td>\n",
       "      <td>2016-12-14 00:00:00</td>\n",
       "    </tr>\n",
       "    <tr>\n",
       "      <th>2</th>\n",
       "      <td>6</td>\n",
       "      <td>1</td>\n",
       "      <td>ALPHABET CITY</td>\n",
       "      <td>07 RENTALS - WALKUP APARTMENTS</td>\n",
       "      <td>2</td>\n",
       "      <td>399</td>\n",
       "      <td>39</td>\n",
       "      <td></td>\n",
       "      <td>C7</td>\n",
       "      <td>197 EAST 3RD   STREET</td>\n",
       "      <td>...</td>\n",
       "      <td>16</td>\n",
       "      <td>1</td>\n",
       "      <td>17</td>\n",
       "      <td>2212</td>\n",
       "      <td>7803</td>\n",
       "      <td>1900</td>\n",
       "      <td>2</td>\n",
       "      <td>C7</td>\n",
       "      <td>-</td>\n",
       "      <td>2016-12-09 00:00:00</td>\n",
       "    </tr>\n",
       "    <tr>\n",
       "      <th>3</th>\n",
       "      <td>7</td>\n",
       "      <td>1</td>\n",
       "      <td>ALPHABET CITY</td>\n",
       "      <td>07 RENTALS - WALKUP APARTMENTS</td>\n",
       "      <td>2B</td>\n",
       "      <td>402</td>\n",
       "      <td>21</td>\n",
       "      <td></td>\n",
       "      <td>C4</td>\n",
       "      <td>154 EAST 7TH STREET</td>\n",
       "      <td>...</td>\n",
       "      <td>10</td>\n",
       "      <td>0</td>\n",
       "      <td>10</td>\n",
       "      <td>2272</td>\n",
       "      <td>6794</td>\n",
       "      <td>1913</td>\n",
       "      <td>2</td>\n",
       "      <td>C4</td>\n",
       "      <td>3936272</td>\n",
       "      <td>2016-09-23 00:00:00</td>\n",
       "    </tr>\n",
       "    <tr>\n",
       "      <th>4</th>\n",
       "      <td>8</td>\n",
       "      <td>1</td>\n",
       "      <td>ALPHABET CITY</td>\n",
       "      <td>07 RENTALS - WALKUP APARTMENTS</td>\n",
       "      <td>2A</td>\n",
       "      <td>404</td>\n",
       "      <td>55</td>\n",
       "      <td></td>\n",
       "      <td>C2</td>\n",
       "      <td>301 EAST 10TH   STREET</td>\n",
       "      <td>...</td>\n",
       "      <td>6</td>\n",
       "      <td>0</td>\n",
       "      <td>6</td>\n",
       "      <td>2369</td>\n",
       "      <td>4615</td>\n",
       "      <td>1900</td>\n",
       "      <td>2</td>\n",
       "      <td>C2</td>\n",
       "      <td>8000000</td>\n",
       "      <td>2016-11-17 00:00:00</td>\n",
       "    </tr>\n",
       "  </tbody>\n",
       "</table>\n",
       "<p>5 rows × 22 columns</p>\n",
       "</div>"
      ],
      "text/plain": [
       "   Unnamed: 0  BOROUGH   NEIGHBORHOOD  \\\n",
       "0           4        1  ALPHABET CITY   \n",
       "1           5        1  ALPHABET CITY   \n",
       "2           6        1  ALPHABET CITY   \n",
       "3           7        1  ALPHABET CITY   \n",
       "4           8        1  ALPHABET CITY   \n",
       "\n",
       "                       BUILDING CLASS CATEGORY TAX CLASS AT PRESENT  BLOCK  \\\n",
       "0  07 RENTALS - WALKUP APARTMENTS                                2A    392   \n",
       "1  07 RENTALS - WALKUP APARTMENTS                                 2    399   \n",
       "2  07 RENTALS - WALKUP APARTMENTS                                 2    399   \n",
       "3  07 RENTALS - WALKUP APARTMENTS                                2B    402   \n",
       "4  07 RENTALS - WALKUP APARTMENTS                                2A    404   \n",
       "\n",
       "   LOT EASE-MENT BUILDING CLASS AT PRESENT                 ADDRESS  ...  \\\n",
       "0    6                                  C2            153 AVENUE B  ...   \n",
       "1   26                                  C7   234 EAST 4TH   STREET  ...   \n",
       "2   39                                  C7   197 EAST 3RD   STREET  ...   \n",
       "3   21                                  C4     154 EAST 7TH STREET  ...   \n",
       "4   55                                  C2  301 EAST 10TH   STREET  ...   \n",
       "\n",
       "  RESIDENTIAL UNITS  COMMERCIAL UNITS  TOTAL UNITS  LAND SQUARE FEET  \\\n",
       "0                 5                 0            5              1633   \n",
       "1                28                 3           31              4616   \n",
       "2                16                 1           17              2212   \n",
       "3                10                 0           10              2272   \n",
       "4                 6                 0            6              2369   \n",
       "\n",
       "   GROSS SQUARE FEET YEAR BUILT TAX CLASS AT TIME OF SALE  \\\n",
       "0               6440       1900                         2   \n",
       "1              18690       1900                         2   \n",
       "2               7803       1900                         2   \n",
       "3               6794       1913                         2   \n",
       "4               4615       1900                         2   \n",
       "\n",
       "   BUILDING CLASS AT TIME OF SALE  SALE PRICE            SALE DATE  \n",
       "0                              C2     6625000  2017-07-19 00:00:00  \n",
       "1                              C7         -    2016-12-14 00:00:00  \n",
       "2                              C7         -    2016-12-09 00:00:00  \n",
       "3                              C4     3936272  2016-09-23 00:00:00  \n",
       "4                              C2     8000000  2016-11-17 00:00:00  \n",
       "\n",
       "[5 rows x 22 columns]"
      ]
     },
     "execution_count": 2,
     "metadata": {},
     "output_type": "execute_result"
    }
   ],
   "source": [
    "# Load dataset\n",
    "\n",
    "df = pd.read_csv('dataset/nyc-rolling-sales.csv')\n",
    "\n",
    "df.head()"
   ]
  },
  {
   "cell_type": "code",
   "execution_count": 3,
   "metadata": {},
   "outputs": [
    {
     "name": "stdout",
     "output_type": "stream",
     "text": [
      "<class 'pandas.core.frame.DataFrame'>\n",
      "RangeIndex: 84548 entries, 0 to 84547\n",
      "Data columns (total 22 columns):\n",
      " #   Column                          Non-Null Count  Dtype \n",
      "---  ------                          --------------  ----- \n",
      " 0   Unnamed: 0                      84548 non-null  int64 \n",
      " 1   BOROUGH                         84548 non-null  int64 \n",
      " 2   NEIGHBORHOOD                    84548 non-null  object\n",
      " 3   BUILDING CLASS CATEGORY         84548 non-null  object\n",
      " 4   TAX CLASS AT PRESENT            84548 non-null  object\n",
      " 5   BLOCK                           84548 non-null  int64 \n",
      " 6   LOT                             84548 non-null  int64 \n",
      " 7   EASE-MENT                       84548 non-null  object\n",
      " 8   BUILDING CLASS AT PRESENT       84548 non-null  object\n",
      " 9   ADDRESS                         84548 non-null  object\n",
      " 10  APARTMENT NUMBER                84548 non-null  object\n",
      " 11  ZIP CODE                        84548 non-null  int64 \n",
      " 12  RESIDENTIAL UNITS               84548 non-null  int64 \n",
      " 13  COMMERCIAL UNITS                84548 non-null  int64 \n",
      " 14  TOTAL UNITS                     84548 non-null  int64 \n",
      " 15  LAND SQUARE FEET                84548 non-null  object\n",
      " 16  GROSS SQUARE FEET               84548 non-null  object\n",
      " 17  YEAR BUILT                      84548 non-null  int64 \n",
      " 18  TAX CLASS AT TIME OF SALE       84548 non-null  int64 \n",
      " 19  BUILDING CLASS AT TIME OF SALE  84548 non-null  object\n",
      " 20  SALE PRICE                      84548 non-null  object\n",
      " 21  SALE DATE                       84548 non-null  object\n",
      "dtypes: int64(10), object(12)\n",
      "memory usage: 14.2+ MB\n"
     ]
    }
   ],
   "source": [
    "# Cek informasi data\n",
    "df.info()"
   ]
  },
  {
   "cell_type": "markdown",
   "metadata": {},
   "source": [
    "Berdasarkan keterangan dari kaggle, dataset mengandung data lokasi, alamat, tipe bangunan, harga jual, dan tanggal penjualan dari bangunan yang terjual. Beberapa referensi untuk data tersebut adalah:\n",
    "- BOROUGH : kode digit untuk wilayah bangunan tersebut berada, Manhattan (1), Bronx (2), Brooklyn (3), Queens (4), dan Staten Island (5)\n",
    "- BLOCK, LOT : kombinasi dari borough, block, dan lot membentuk unique key bangunan di New York City, yang biasa disebut sebagai BBL\n",
    "- \"BUILDING CLASS AT PRESENT\", \"BUILDING CLASS AT TIME OF SALE\" : tipe bangunan pada waktu yang berbeda\n",
    "\n",
    "**Note**:\n",
    "- Banyak sales terjadi dengan nilai yang tidak masuk akal ($0). Sales ini adalah transfer secara resmi antar entitas: contohnya adalah transfer kepemilikan bangunan dari orangtua ke anak\n",
    "- Dataset ini menggunakan definisi keuangan dari sebuah bangunan untuk tujuan perpajakan. Apabila satu entitas memiliki suatu bangunan, harga jual mencakup nilai dari keseluruhan bangunan. Apabila satu bangunan dimiliki oleh seluruh penguhninya (condominium), harga jual mengacu pada satu apartemen (atau beberapa apartemen) yang dimiliki oleh beberapa individu\n"
   ]
  },
  {
   "cell_type": "code",
   "execution_count": 4,
   "metadata": {},
   "outputs": [
    {
     "data": {
      "text/plain": [
       "(84548, 22)"
      ]
     },
     "execution_count": 4,
     "metadata": {},
     "output_type": "execute_result"
    }
   ],
   "source": [
    "# Cek dimensi dataset\n",
    "df.shape"
   ]
  },
  {
   "cell_type": "markdown",
   "metadata": {},
   "source": [
    "Kita dapat menghapus kolom yang tidak relevan seperti \"Unnamed: 0\" dan \"EASE-MENT\""
   ]
  },
  {
   "cell_type": "code",
   "execution_count": 5,
   "metadata": {},
   "outputs": [],
   "source": [
    "#Drop kolom \"Unnamed: 0\" dan \"EASE-MENT\"\n",
    "df.drop(['Unnamed: 0', 'EASE-MENT'], axis=1, inplace=True)"
   ]
  },
  {
   "cell_type": "markdown",
   "metadata": {},
   "source": [
    "Sekarang kita akan melakukan pengecekan terhadap setiap variabel, mana yang bersifat numeric dan categorical\n",
    "1. BOROUGH: categorical\n",
    "2. NEIGHBORHOOD: categorical\n",
    "3. BUILDING CLASS CATEGORY: categorical\n",
    "4. TAX CLASS AT PRESENT: categorical\n",
    "5. BLOCK: categorical **(dapat diabaikan)**\n",
    "6. LOT: categorical **(dapat diabaikan)**\n",
    "7. BUILDING CLASS AT PRESENT: categorical\n",
    "8. ADDRESS: categorical **(dapat diabaikan)**\n",
    "9. APARTMENT NUMBER: categorical **(dapat diabaikan)**\n",
    "9. ZIP CODE: categorical\n",
    "10. RESIDENTIAL UNITS: numeric\n",
    "11. COMMERCIAL UNITS: numeric\n",
    "12. TOTAL UNITS: numeric\n",
    "13. LAND SQUARE FEET: numeric\n",
    "14. GROSS SQUARE FEET: numeric\n",
    "15. YEAR BUILT: categorical\n",
    "16. BUILDING CLASS AT TIME OF SALE: categorical\n",
    "16. TAX CLASS AT TIME OF SALE: categorical\n",
    "17. SALE PRICE: numeric\n",
    "18. SALE DATE: data time\n",
    "\n",
    "Setelah diketahui tipe-tipe data setiap variabel/feature, kita akan mengambil data yang relevan dan menentukan tipe datanya"
   ]
  },
  {
   "cell_type": "code",
   "execution_count": 6,
   "metadata": {},
   "outputs": [
    {
     "data": {
      "text/html": [
       "<div>\n",
       "<style scoped>\n",
       "    .dataframe tbody tr th:only-of-type {\n",
       "        vertical-align: middle;\n",
       "    }\n",
       "\n",
       "    .dataframe tbody tr th {\n",
       "        vertical-align: top;\n",
       "    }\n",
       "\n",
       "    .dataframe thead th {\n",
       "        text-align: right;\n",
       "    }\n",
       "</style>\n",
       "<table border=\"1\" class=\"dataframe\">\n",
       "  <thead>\n",
       "    <tr style=\"text-align: right;\">\n",
       "      <th></th>\n",
       "      <th>BOROUGH</th>\n",
       "      <th>NEIGHBORHOOD</th>\n",
       "      <th>BUILDING CLASS CATEGORY</th>\n",
       "      <th>TAX CLASS AT PRESENT</th>\n",
       "      <th>BUILDING CLASS AT PRESENT</th>\n",
       "      <th>ZIP CODE</th>\n",
       "      <th>RESIDENTIAL UNITS</th>\n",
       "      <th>COMMERCIAL UNITS</th>\n",
       "      <th>TOTAL UNITS</th>\n",
       "      <th>LAND SQUARE FEET</th>\n",
       "      <th>GROSS SQUARE FEET</th>\n",
       "      <th>YEAR BUILT</th>\n",
       "      <th>TAX CLASS AT TIME OF SALE</th>\n",
       "      <th>BUILDING CLASS AT TIME OF SALE</th>\n",
       "      <th>SALE PRICE</th>\n",
       "      <th>SALE DATE</th>\n",
       "      <th>sale_year</th>\n",
       "      <th>sale_month</th>\n",
       "    </tr>\n",
       "  </thead>\n",
       "  <tbody>\n",
       "    <tr>\n",
       "      <th>0</th>\n",
       "      <td>1</td>\n",
       "      <td>ALPHABET CITY</td>\n",
       "      <td>07 RENTALS - WALKUP APARTMENTS</td>\n",
       "      <td>2A</td>\n",
       "      <td>C2</td>\n",
       "      <td>10009</td>\n",
       "      <td>5</td>\n",
       "      <td>0</td>\n",
       "      <td>5</td>\n",
       "      <td>1633.0</td>\n",
       "      <td>6440.0</td>\n",
       "      <td>1900</td>\n",
       "      <td>2</td>\n",
       "      <td>C2</td>\n",
       "      <td>6625000.0</td>\n",
       "      <td>2017-07-19</td>\n",
       "      <td>2017</td>\n",
       "      <td>7</td>\n",
       "    </tr>\n",
       "    <tr>\n",
       "      <th>1</th>\n",
       "      <td>1</td>\n",
       "      <td>ALPHABET CITY</td>\n",
       "      <td>07 RENTALS - WALKUP APARTMENTS</td>\n",
       "      <td>2</td>\n",
       "      <td>C7</td>\n",
       "      <td>10009</td>\n",
       "      <td>28</td>\n",
       "      <td>3</td>\n",
       "      <td>31</td>\n",
       "      <td>4616.0</td>\n",
       "      <td>18690.0</td>\n",
       "      <td>1900</td>\n",
       "      <td>2</td>\n",
       "      <td>C7</td>\n",
       "      <td>NaN</td>\n",
       "      <td>2016-12-14</td>\n",
       "      <td>2016</td>\n",
       "      <td>12</td>\n",
       "    </tr>\n",
       "    <tr>\n",
       "      <th>2</th>\n",
       "      <td>1</td>\n",
       "      <td>ALPHABET CITY</td>\n",
       "      <td>07 RENTALS - WALKUP APARTMENTS</td>\n",
       "      <td>2</td>\n",
       "      <td>C7</td>\n",
       "      <td>10009</td>\n",
       "      <td>16</td>\n",
       "      <td>1</td>\n",
       "      <td>17</td>\n",
       "      <td>2212.0</td>\n",
       "      <td>7803.0</td>\n",
       "      <td>1900</td>\n",
       "      <td>2</td>\n",
       "      <td>C7</td>\n",
       "      <td>NaN</td>\n",
       "      <td>2016-12-09</td>\n",
       "      <td>2016</td>\n",
       "      <td>12</td>\n",
       "    </tr>\n",
       "    <tr>\n",
       "      <th>3</th>\n",
       "      <td>1</td>\n",
       "      <td>ALPHABET CITY</td>\n",
       "      <td>07 RENTALS - WALKUP APARTMENTS</td>\n",
       "      <td>2B</td>\n",
       "      <td>C4</td>\n",
       "      <td>10009</td>\n",
       "      <td>10</td>\n",
       "      <td>0</td>\n",
       "      <td>10</td>\n",
       "      <td>2272.0</td>\n",
       "      <td>6794.0</td>\n",
       "      <td>1913</td>\n",
       "      <td>2</td>\n",
       "      <td>C4</td>\n",
       "      <td>3936272.0</td>\n",
       "      <td>2016-09-23</td>\n",
       "      <td>2016</td>\n",
       "      <td>9</td>\n",
       "    </tr>\n",
       "    <tr>\n",
       "      <th>4</th>\n",
       "      <td>1</td>\n",
       "      <td>ALPHABET CITY</td>\n",
       "      <td>07 RENTALS - WALKUP APARTMENTS</td>\n",
       "      <td>2A</td>\n",
       "      <td>C2</td>\n",
       "      <td>10009</td>\n",
       "      <td>6</td>\n",
       "      <td>0</td>\n",
       "      <td>6</td>\n",
       "      <td>2369.0</td>\n",
       "      <td>4615.0</td>\n",
       "      <td>1900</td>\n",
       "      <td>2</td>\n",
       "      <td>C2</td>\n",
       "      <td>8000000.0</td>\n",
       "      <td>2016-11-17</td>\n",
       "      <td>2016</td>\n",
       "      <td>11</td>\n",
       "    </tr>\n",
       "  </tbody>\n",
       "</table>\n",
       "</div>"
      ],
      "text/plain": [
       "  BOROUGH   NEIGHBORHOOD                      BUILDING CLASS CATEGORY  \\\n",
       "0       1  ALPHABET CITY  07 RENTALS - WALKUP APARTMENTS                \n",
       "1       1  ALPHABET CITY  07 RENTALS - WALKUP APARTMENTS                \n",
       "2       1  ALPHABET CITY  07 RENTALS - WALKUP APARTMENTS                \n",
       "3       1  ALPHABET CITY  07 RENTALS - WALKUP APARTMENTS                \n",
       "4       1  ALPHABET CITY  07 RENTALS - WALKUP APARTMENTS                \n",
       "\n",
       "  TAX CLASS AT PRESENT BUILDING CLASS AT PRESENT ZIP CODE  RESIDENTIAL UNITS  \\\n",
       "0                   2A                        C2    10009                  5   \n",
       "1                    2                        C7    10009                 28   \n",
       "2                    2                        C7    10009                 16   \n",
       "3                   2B                        C4    10009                 10   \n",
       "4                   2A                        C2    10009                  6   \n",
       "\n",
       "   COMMERCIAL UNITS  TOTAL UNITS  LAND SQUARE FEET  GROSS SQUARE FEET  \\\n",
       "0                 0            5            1633.0             6440.0   \n",
       "1                 3           31            4616.0            18690.0   \n",
       "2                 1           17            2212.0             7803.0   \n",
       "3                 0           10            2272.0             6794.0   \n",
       "4                 0            6            2369.0             4615.0   \n",
       "\n",
       "  YEAR BUILT TAX CLASS AT TIME OF SALE BUILDING CLASS AT TIME OF SALE  \\\n",
       "0       1900                         2                             C2   \n",
       "1       1900                         2                             C7   \n",
       "2       1900                         2                             C7   \n",
       "3       1913                         2                             C4   \n",
       "4       1900                         2                             C2   \n",
       "\n",
       "   SALE PRICE  SALE DATE sale_year sale_month  \n",
       "0   6625000.0 2017-07-19      2017          7  \n",
       "1         NaN 2016-12-14      2016         12  \n",
       "2         NaN 2016-12-09      2016         12  \n",
       "3   3936272.0 2016-09-23      2016          9  \n",
       "4   8000000.0 2016-11-17      2016         11  "
      ]
     },
     "execution_count": 6,
     "metadata": {},
     "output_type": "execute_result"
    }
   ],
   "source": [
    "# Drop data \"BLOCK\", \"LOT\", dan \"ADDRESS\"\n",
    "df.drop(['BLOCK', 'LOT', 'ADDRESS', 'APARTMENT NUMBER'], axis=1, inplace=True)\n",
    "\n",
    "# Set variabel categorical\n",
    "categorical = ['BOROUGH','NEIGHBORHOOD','BUILDING CLASS CATEGORY', 'TAX CLASS AT PRESENT', 'BUILDING CLASS AT PRESENT','ZIP CODE', 'YEAR BUILT', 'BUILDING CLASS AT TIME OF SALE', 'TAX CLASS AT TIME OF SALE']\n",
    "\n",
    "for col in categorical: \n",
    "    df[col] = df[col].astype(\"category\")\n",
    "    \n",
    "# Set variabel numeric\n",
    "numeric = [\"RESIDENTIAL UNITS\",\"COMMERCIAL UNITS\",\"TOTAL UNITS\", \"LAND SQUARE FEET\" , \"GROSS SQUARE FEET\",\"SALE PRICE\" ]\n",
    "\n",
    "for col in numeric: \n",
    "    df[col] = pd.to_numeric(df[col], errors='coerce')\n",
    "\n",
    "# Set variabel data time\n",
    "df['SALE DATE']= pd.to_datetime(df['SALE DATE'], errors='coerce')\n",
    "df['sale_year'] = pd.DatetimeIndex(df['SALE DATE']).year.astype(\"category\")\n",
    "df['sale_month'] = pd.DatetimeIndex(df['SALE DATE']).month.astype(\"category\")\n",
    "\n",
    "df.head()"
   ]
  },
  {
   "cell_type": "code",
   "execution_count": 7,
   "metadata": {},
   "outputs": [
    {
     "name": "stdout",
     "output_type": "stream",
     "text": [
      "<class 'pandas.core.frame.DataFrame'>\n",
      "RangeIndex: 84548 entries, 0 to 84547\n",
      "Data columns (total 18 columns):\n",
      " #   Column                          Non-Null Count  Dtype         \n",
      "---  ------                          --------------  -----         \n",
      " 0   BOROUGH                         84548 non-null  category      \n",
      " 1   NEIGHBORHOOD                    84548 non-null  category      \n",
      " 2   BUILDING CLASS CATEGORY         84548 non-null  category      \n",
      " 3   TAX CLASS AT PRESENT            84548 non-null  category      \n",
      " 4   BUILDING CLASS AT PRESENT       84548 non-null  category      \n",
      " 5   ZIP CODE                        84548 non-null  category      \n",
      " 6   RESIDENTIAL UNITS               84548 non-null  int64         \n",
      " 7   COMMERCIAL UNITS                84548 non-null  int64         \n",
      " 8   TOTAL UNITS                     84548 non-null  int64         \n",
      " 9   LAND SQUARE FEET                58296 non-null  float64       \n",
      " 10  GROSS SQUARE FEET               56936 non-null  float64       \n",
      " 11  YEAR BUILT                      84548 non-null  category      \n",
      " 12  TAX CLASS AT TIME OF SALE       84548 non-null  category      \n",
      " 13  BUILDING CLASS AT TIME OF SALE  84548 non-null  category      \n",
      " 14  SALE PRICE                      69987 non-null  float64       \n",
      " 15  SALE DATE                       84548 non-null  datetime64[ns]\n",
      " 16  sale_year                       84548 non-null  category      \n",
      " 17  sale_month                      84548 non-null  category      \n",
      "dtypes: category(11), datetime64[ns](1), float64(3), int64(3)\n",
      "memory usage: 5.8 MB\n"
     ]
    }
   ],
   "source": [
    "df.info()"
   ]
  },
  {
   "cell_type": "code",
   "execution_count": 8,
   "metadata": {},
   "outputs": [
    {
     "data": {
      "text/plain": [
       "BOROUGH                               0\n",
       "NEIGHBORHOOD                          0\n",
       "BUILDING CLASS CATEGORY               0\n",
       "TAX CLASS AT PRESENT                  0\n",
       "BUILDING CLASS AT PRESENT             0\n",
       "ZIP CODE                              0\n",
       "RESIDENTIAL UNITS                     0\n",
       "COMMERCIAL UNITS                      0\n",
       "TOTAL UNITS                           0\n",
       "LAND SQUARE FEET                  26252\n",
       "GROSS SQUARE FEET                 27612\n",
       "YEAR BUILT                            0\n",
       "TAX CLASS AT TIME OF SALE             0\n",
       "BUILDING CLASS AT TIME OF SALE        0\n",
       "SALE PRICE                        14561\n",
       "SALE DATE                             0\n",
       "sale_year                             0\n",
       "sale_month                            0\n",
       "dtype: int64"
      ]
     },
     "execution_count": 8,
     "metadata": {},
     "output_type": "execute_result"
    }
   ],
   "source": [
    "# Cek apakah ada missing value dari data yang ada\n",
    "df.isnull().sum()"
   ]
  },
  {
   "cell_type": "markdown",
   "metadata": {},
   "source": [
    "Ternyata cukup banyak missing value yang ada, langkah selanjutnya kita adalah membuang data missing value tersebut"
   ]
  },
  {
   "cell_type": "code",
   "execution_count": 9,
   "metadata": {},
   "outputs": [
    {
     "data": {
      "text/plain": [
       "(48244, 18)"
      ]
     },
     "execution_count": 9,
     "metadata": {},
     "output_type": "execute_result"
    }
   ],
   "source": [
    "# Buang semua data yang mengandung NA\n",
    "df = df.dropna()\n",
    "df.shape"
   ]
  },
  {
   "cell_type": "markdown",
   "metadata": {},
   "source": [
    "Selanjutnya kita akan mengambil data bangunan yang terjual, dan bukan diwariskan dari orangtua"
   ]
  },
  {
   "cell_type": "code",
   "execution_count": 10,
   "metadata": {},
   "outputs": [
    {
     "data": {
      "text/plain": [
       "(38016, 18)"
      ]
     },
     "execution_count": 10,
     "metadata": {},
     "output_type": "execute_result"
    }
   ],
   "source": [
    "# Ambil data bangunan yang terjual (bukan warisan/balik nama dari orangtua)\n",
    "df = df[df['SALE PRICE'] > 0]\n",
    "df.shape"
   ]
  },
  {
   "cell_type": "code",
   "execution_count": 11,
   "metadata": {},
   "outputs": [
    {
     "data": {
      "text/plain": [
       "(36301, 18)"
      ]
     },
     "execution_count": 11,
     "metadata": {},
     "output_type": "execute_result"
    }
   ],
   "source": [
    "# buang outliers dari data yang ada, yaitu property yang terjual dalam rentang harga 10000 - 10000000\n",
    "df = df[(df['SALE PRICE']>10000) & (df['SALE PRICE']<10000000)].copy()\n",
    "df.shape"
   ]
  },
  {
   "cell_type": "markdown",
   "metadata": {},
   "source": [
    "Saat ini kita memiliki 36,301 bangunan yang terjual dalam periode 2016-2017 "
   ]
  },
  {
   "cell_type": "markdown",
   "metadata": {},
   "source": [
    "## Descriptive Statistics\n",
    "\n",
    "Descriptive Statistics adalah meringkas/summarizing dan mengatur data sehingga dapat dengan mudah dipahami. Descriptive Statistical Analysis akan membantu kita untuk memahami data dan merupakan bagian yang sangat penting untuk proses-proses selanjutnya, mulai dari pengambilan keputusan sampai proses penyusunan model untuk Machine Learning. Descriptive Statistics akan membantu kita untuk lebih memahami apa yang diceritakan oleh data kita untuk mendapatkan pemahaman secara menyeluruh."
   ]
  },
  {
   "cell_type": "code",
   "execution_count": 12,
   "metadata": {},
   "outputs": [
    {
     "data": {
      "text/html": [
       "<div>\n",
       "<style scoped>\n",
       "    .dataframe tbody tr th:only-of-type {\n",
       "        vertical-align: middle;\n",
       "    }\n",
       "\n",
       "    .dataframe tbody tr th {\n",
       "        vertical-align: top;\n",
       "    }\n",
       "\n",
       "    .dataframe thead th {\n",
       "        text-align: right;\n",
       "    }\n",
       "</style>\n",
       "<table border=\"1\" class=\"dataframe\">\n",
       "  <thead>\n",
       "    <tr style=\"text-align: right;\">\n",
       "      <th></th>\n",
       "      <th>RESIDENTIAL UNITS</th>\n",
       "      <th>COMMERCIAL UNITS</th>\n",
       "      <th>TOTAL UNITS</th>\n",
       "      <th>LAND SQUARE FEET</th>\n",
       "      <th>GROSS SQUARE FEET</th>\n",
       "      <th>SALE PRICE</th>\n",
       "    </tr>\n",
       "  </thead>\n",
       "  <tbody>\n",
       "    <tr>\n",
       "      <th>count</th>\n",
       "      <td>36301.000000</td>\n",
       "      <td>36301.000000</td>\n",
       "      <td>36301.000000</td>\n",
       "      <td>3.630100e+04</td>\n",
       "      <td>3.630100e+04</td>\n",
       "      <td>3.630100e+04</td>\n",
       "    </tr>\n",
       "    <tr>\n",
       "      <th>mean</th>\n",
       "      <td>1.963885</td>\n",
       "      <td>0.179114</td>\n",
       "      <td>2.148095</td>\n",
       "      <td>3.118058e+03</td>\n",
       "      <td>2.557819e+03</td>\n",
       "      <td>8.781737e+05</td>\n",
       "    </tr>\n",
       "    <tr>\n",
       "      <th>std</th>\n",
       "      <td>13.858330</td>\n",
       "      <td>11.954348</td>\n",
       "      <td>18.372010</td>\n",
       "      <td>3.340353e+04</td>\n",
       "      <td>2.340699e+04</td>\n",
       "      <td>1.032096e+06</td>\n",
       "    </tr>\n",
       "    <tr>\n",
       "      <th>min</th>\n",
       "      <td>0.000000</td>\n",
       "      <td>0.000000</td>\n",
       "      <td>0.000000</td>\n",
       "      <td>0.000000e+00</td>\n",
       "      <td>0.000000e+00</td>\n",
       "      <td>1.000100e+04</td>\n",
       "    </tr>\n",
       "    <tr>\n",
       "      <th>25%</th>\n",
       "      <td>1.000000</td>\n",
       "      <td>0.000000</td>\n",
       "      <td>1.000000</td>\n",
       "      <td>1.325000e+03</td>\n",
       "      <td>8.400000e+02</td>\n",
       "      <td>4.000000e+05</td>\n",
       "    </tr>\n",
       "    <tr>\n",
       "      <th>50%</th>\n",
       "      <td>1.000000</td>\n",
       "      <td>0.000000</td>\n",
       "      <td>1.000000</td>\n",
       "      <td>2.185000e+03</td>\n",
       "      <td>1.532000e+03</td>\n",
       "      <td>6.100000e+05</td>\n",
       "    </tr>\n",
       "    <tr>\n",
       "      <th>75%</th>\n",
       "      <td>2.000000</td>\n",
       "      <td>0.000000</td>\n",
       "      <td>2.000000</td>\n",
       "      <td>3.179000e+03</td>\n",
       "      <td>2.293000e+03</td>\n",
       "      <td>9.450000e+05</td>\n",
       "    </tr>\n",
       "    <tr>\n",
       "      <th>max</th>\n",
       "      <td>1844.000000</td>\n",
       "      <td>2261.000000</td>\n",
       "      <td>2261.000000</td>\n",
       "      <td>4.228300e+06</td>\n",
       "      <td>3.750565e+06</td>\n",
       "      <td>9.999999e+06</td>\n",
       "    </tr>\n",
       "  </tbody>\n",
       "</table>\n",
       "</div>"
      ],
      "text/plain": [
       "       RESIDENTIAL UNITS  COMMERCIAL UNITS   TOTAL UNITS  LAND SQUARE FEET  \\\n",
       "count       36301.000000      36301.000000  36301.000000      3.630100e+04   \n",
       "mean            1.963885          0.179114      2.148095      3.118058e+03   \n",
       "std            13.858330         11.954348     18.372010      3.340353e+04   \n",
       "min             0.000000          0.000000      0.000000      0.000000e+00   \n",
       "25%             1.000000          0.000000      1.000000      1.325000e+03   \n",
       "50%             1.000000          0.000000      1.000000      2.185000e+03   \n",
       "75%             2.000000          0.000000      2.000000      3.179000e+03   \n",
       "max          1844.000000       2261.000000   2261.000000      4.228300e+06   \n",
       "\n",
       "       GROSS SQUARE FEET    SALE PRICE  \n",
       "count       3.630100e+04  3.630100e+04  \n",
       "mean        2.557819e+03  8.781737e+05  \n",
       "std         2.340699e+04  1.032096e+06  \n",
       "min         0.000000e+00  1.000100e+04  \n",
       "25%         8.400000e+02  4.000000e+05  \n",
       "50%         1.532000e+03  6.100000e+05  \n",
       "75%         2.293000e+03  9.450000e+05  \n",
       "max         3.750565e+06  9.999999e+06  "
      ]
     },
     "execution_count": 12,
     "metadata": {},
     "output_type": "execute_result"
    }
   ],
   "source": [
    "# Parameter statistic dasar dari seluruh data\n",
    "df.describe()"
   ]
  },
  {
   "cell_type": "code",
   "execution_count": 13,
   "metadata": {},
   "outputs": [
    {
     "name": "stdout",
     "output_type": "stream",
     "text": [
      "Mean =  878173.6744993251\n",
      "Median =  610000.0\n",
      "Modus =  0    650000.0\n",
      "dtype: float64\n",
      "Variance =  1065222110733.1771\n",
      "Standar Deviasi =  1032095.9794191513\n",
      "Range =  9989998.0\n"
     ]
    }
   ],
   "source": [
    "#mean\n",
    "mean_sale_price = df['SALE PRICE'].mean()\n",
    "print('Mean = ', mean_sale_price)\n",
    "\n",
    "#median\n",
    "median_sale_price = df['SALE PRICE'].median()\n",
    "print('Median = ', median_sale_price)\n",
    "\n",
    "#modus\n",
    "modus_sale_price = df['SALE PRICE'].mode()\n",
    "print('Modus = ', modus_sale_price)\n",
    "\n",
    "#varians dengan degree of freedom = 1\n",
    "var_sale_price = np.var(df['SALE PRICE'], ddof=1)\n",
    "print('Variance = ', var_sale_price)\n",
    "\n",
    "#standar deviasi dengan degree of freedom = 1\n",
    "std_sale_price = np.std(df['SALE PRICE'], ddof = 1)\n",
    "print('Standar Deviasi = ', std_sale_price)\n",
    "\n",
    "#range\n",
    "range_sale_price = df['SALE PRICE'].max() - df['SALE PRICE'].min()\n",
    "print('Range = ', range_sale_price)"
   ]
  },
  {
   "cell_type": "markdown",
   "metadata": {},
   "source": [
    "Kita sudah mendapatkan nilai-nilai statistik dasar dari proses di atas. Dari data tersebut, dapat kita lihat bahwa variansi  cukup lebar.\n",
    "\n",
    "Selanjutnya kita akan menghitung Confidence Interval untuk data tersebut dengan confidence level 95%"
   ]
  },
  {
   "cell_type": "code",
   "execution_count": 14,
   "metadata": {},
   "outputs": [
    {
     "name": "stdout",
     "output_type": "stream",
     "text": [
      "Lower Limit of Sale Price :  867556.3066754859\n",
      "Upper Limit of Sale Price :  888791.0423231643\n"
     ]
    }
   ],
   "source": [
    "# Confidence Interval\n",
    "n = df['SALE PRICE'].count()\n",
    "z = 1.96 # Z-score untuk confidence level 95%\n",
    "\n",
    "SE = std_sale_price / np.sqrt(n)\n",
    "lcb = mean_sale_price - z* SE #lower\n",
    "ucb = mean_sale_price + z* SE #Upper\n",
    "print ('Lower Limit of Sale Price : ', lcb)\n",
    "print ('Upper Limit of Sale Price : ', ucb)"
   ]
  },
  {
   "cell_type": "markdown",
   "metadata": {},
   "source": [
    "Dari data tersebut, dengan confidence level 95%, range data yang adalah 867556.31 - 888791.04\n",
    "\n",
    "Selanjutnya kita akan melihat **skewness** dari data NYC Property Sale Price, dimana skewness adalah ukuran asimetri distribusi probabilitas dari real-valued random variable tentang mean-nya. Nilai kemiringan bisa positif, negatif, atau undefined. Dalam distribusi normal sempurna, ekor di kedua sisi kurva adalah sama persis yang tepat satu sama lain."
   ]
  },
  {
   "cell_type": "code",
   "execution_count": 22,
   "metadata": {},
   "outputs": [
    {
     "name": "stdout",
     "output_type": "stream",
     "text": [
      "Skewness data NYC Property Sale Price:  4.373501884339186\n"
     ]
    }
   ],
   "source": [
    "# Skewness data NYC Property Sale Price\n",
    "print('Skewness data NYC Property Sale Price: ', df['SALE PRICE'].skew())"
   ]
  },
  {
   "cell_type": "markdown",
   "metadata": {},
   "source": [
    "Skewness menunjukkan angka positif yang menunjukkan bahwa data NYC Property Sale Price mempunyai **right-side tail**. Untuk membuktikannya, kita akan melakukan visualisasi data Sale Price tersebut menggunakan box plot dan distribution plot."
   ]
  },
  {
   "cell_type": "code",
   "execution_count": 16,
   "metadata": {},
   "outputs": [
    {
     "data": {
      "image/png": "[encoded data removed]",
      "text/plain": [
       "<Figure size 576x432 with 1 Axes>"
      ]
     },
     "metadata": {
      "needs_background": "light"
     },
     "output_type": "display_data"
    }
   ],
   "source": [
    "# Box-plot data NYC Property Sale Price\n",
    "df['SALE PRICE'].plot(kind='box', figsize=(8,6))\n",
    "\n",
    "plt.title('Box Plot of NYC Property Sale Price')\n",
    "plt.ylabel('Harga Properti')\n",
    "\n",
    "plt.show()"
   ]
  },
  {
   "cell_type": "markdown",
   "metadata": {},
   "source": [
    "Hasil dari Box Plot menunjukkan bahwa data tidak terdistribusi secara merata dan masih banyak outliers yang ada"
   ]
  },
  {
   "cell_type": "code",
   "execution_count": 17,
   "metadata": {},
   "outputs": [
    {
     "name": "stderr",
     "output_type": "stream",
     "text": [
      "C:\\Users\\890092\\AppData\\Roaming\\Python\\Python37\\site-packages\\seaborn\\distributions.py:2557: FutureWarning: `distplot` is a deprecated function and will be removed in a future version. Please adapt your code to use either `displot` (a figure-level function with similar flexibility) or `histplot` (an axes-level function for histograms).\n",
      "  warnings.warn(msg, FutureWarning)\n"
     ]
    },
    {
     "data": {
      "text/plain": [
       "Text(0.5, 1.015, 'Distribution of NYC Property Sale Price')"
      ]
     },
     "execution_count": 17,
     "metadata": {},
     "output_type": "execute_result"
    },
    {
     "data": {
      "image/png": "[encoded data removed]",
      "text/plain": [
       "<Figure size 1152x360 with 1 Axes>"
      ]
     },
     "metadata": {},
     "output_type": "display_data"
    }
   ],
   "source": [
    "# Plot Distribution\n",
    "sns.set(rc={'figure.figsize':(16,5)})\n",
    "sns.distplot(df['SALE PRICE'], color='darkslategrey')\n",
    "plt.xlabel('NYC Property Sale Price', labelpad=14)\n",
    "plt.ylabel('Probability of Occurence', labelpad=14)\n",
    "plt.title('Distribution of NYC Property Sale Price', y=1.015, fontsize=20)"
   ]
  },
  {
   "cell_type": "markdown",
   "metadata": {},
   "source": [
    "## Hypothesis Testing\n",
    "\n",
    "Kita akan melakukan hypothesis testing untuk menentukan apakah mean dari property sale price di Bronx sama dengan Staten Island.\n",
    "- Null hypothesis: $ \\mu_{Bronx} = \\mu_{Staten Island} $\n",
    "- Alternative Hypothesis: $ \\mu_{Bronx} \\neq \\mu_{Staten Island} $"
   ]
  },
  {
   "cell_type": "code",
   "execution_count": 18,
   "metadata": {},
   "outputs": [
    {
     "data": {
      "text/plain": [
       "3    15105\n",
       "4    10699\n",
       "2     4930\n",
       "5     4922\n",
       "1      645\n",
       "Name: BOROUGH, dtype: int64"
      ]
     },
     "execution_count": 18,
     "metadata": {},
     "output_type": "execute_result"
    }
   ],
   "source": [
    "# Jumlah data masing-masing Borough\n",
    "df['BOROUGH'].value_counts()"
   ]
  },
  {
   "cell_type": "markdown",
   "metadata": {},
   "source": [
    "Dari data tersebut, kita akan mengambil data Bronx dan Staten Island karena memiliki jumlah data yang hampir sama"
   ]
  },
  {
   "cell_type": "code",
   "execution_count": 26,
   "metadata": {},
   "outputs": [
    {
     "name": "stdout",
     "output_type": "stream",
     "text": [
      "BRONX\n",
      "Jumlah data:  4930\n",
      "Mean:  593250.1427991886\n",
      "Std Dev Bronx:  957386.648826048\n",
      "\n",
      "Staten Island\n",
      "Jumlah data:  4922\n",
      "Mean:  536668.679195449\n",
      "Std Dev Bronx:  384914.4900905535\n"
     ]
    }
   ],
   "source": [
    "# Set data Bronx dan Staten Island\n",
    "df_bronx = df[df['BOROUGH'] == 2]\n",
    "df_staten_island = df[df['BOROUGH'] == 5]\n",
    "\n",
    "# Hitung jumlah data, mean, dan stdev masing-masing data\n",
    "n_bronx = len(df_bronx)\n",
    "mu_bronx = df_bronx['SALE PRICE'].mean()\n",
    "sd_bronx = df_bronx['SALE PRICE'].std()\n",
    "print('BRONX')\n",
    "print('Jumlah data: ', n_bronx)\n",
    "print('Mean: ', mu_bronx)\n",
    "print('Std Dev Bronx: ', sd_bronx)\n",
    "print('')\n",
    "\n",
    "n_staten_island = len(df_staten_island)\n",
    "mu_staten_island = df_staten_island['SALE PRICE'].mean()\n",
    "sd_staten_island = df_staten_island['SALE PRICE'].std()\n",
    "print('Staten Island')\n",
    "print('Jumlah data: ', n_staten_island)\n",
    "print('Mean: ', mu_staten_island)\n",
    "print('Std Dev Bronx: ', sd_staten_island)"
   ]
  },
  {
   "cell_type": "code",
   "execution_count": 20,
   "metadata": {},
   "outputs": [
    {
     "data": {
      "text/plain": [
       "(3.8474280210116696, 0.00011936432979782005)"
      ]
     },
     "execution_count": 20,
     "metadata": {},
     "output_type": "execute_result"
    }
   ],
   "source": [
    "# Calculate z-stat & p-value\n",
    "sm.stats.ztest(df_bronx['SALE PRICE'], df_staten_island['SALE PRICE'], alternative='two-sided')"
   ]
  },
  {
   "cell_type": "markdown",
   "metadata": {},
   "source": [
    "Karena nilai **p-value** sangat kecil, kita dapat **reject the Null Hypothesis** bahwa rata-rata harga jual di wilayah Bronx sama dengan Staten Island. Untuk lebih jelasnya kita dapat membuat histogram plot dari kedua data tersebut sebagai berikut."
   ]
  },
  {
   "cell_type": "code",
   "execution_count": 21,
   "metadata": {},
   "outputs": [
    {
     "name": "stderr",
     "output_type": "stream",
     "text": [
      "C:\\Users\\890092\\AppData\\Roaming\\Python\\Python37\\site-packages\\seaborn\\distributions.py:2557: FutureWarning: `distplot` is a deprecated function and will be removed in a future version. Please adapt your code to use either `displot` (a figure-level function with similar flexibility) or `histplot` (an axes-level function for histograms).\n",
      "  warnings.warn(msg, FutureWarning)\n"
     ]
    },
    {
     "data": {
      "image/png": "[encoded data removed]",
      "text/plain": [
       "<Figure size 1152x360 with 1 Axes>"
      ]
     },
     "metadata": {},
     "output_type": "display_data"
    },
    {
     "name": "stderr",
     "output_type": "stream",
     "text": [
      "C:\\Users\\890092\\AppData\\Roaming\\Python\\Python37\\site-packages\\seaborn\\distributions.py:2557: FutureWarning: `distplot` is a deprecated function and will be removed in a future version. Please adapt your code to use either `displot` (a figure-level function with similar flexibility) or `histplot` (an axes-level function for histograms).\n",
      "  warnings.warn(msg, FutureWarning)\n"
     ]
    },
    {
     "data": {
      "image/png": "[encoded data removed]",
      "text/plain": [
       "<Figure size 1152x360 with 1 Axes>"
      ]
     },
     "metadata": {},
     "output_type": "display_data"
    }
   ],
   "source": [
    "# Distribution Plot Bronx Sale Price \n",
    "sns.set(rc={'figure.figsize':(16,5)})\n",
    "sns.distplot(df_bronx['SALE PRICE'], color='darkslategrey')\n",
    "plt.xlabel('Sale Price', labelpad=14)\n",
    "plt.ylabel('Probability of Occurence', labelpad=14)\n",
    "plt.title('Distribution of Bronx Property Sale Price', y=1.015, fontsize=20)\n",
    "plt.show()\n",
    "\n",
    "# Distribution Plot Staten Island Sale Price\n",
    "sns.set(rc={'figure.figsize':(16,5)})\n",
    "sns.distplot(df_staten_island['SALE PRICE'], color='red')\n",
    "plt.xlabel('Sale Price', labelpad=14)\n",
    "plt.ylabel('Probability of Occurence', labelpad=14)\n",
    "plt.title('Distribution of Staten Island Property Sale Price', y=1.015, fontsize=20)\n",
    "plt.show()"
   ]
  },
  {
   "cell_type": "code",
   "execution_count": null,
   "metadata": {},
   "outputs": [],
   "source": []
  }
 ],
 "metadata": {
  "kernelspec": {
   "display_name": "Python 3",
   "language": "python",
   "name": "python3"
  },
  "language_info": {
   "codemirror_mode": {
    "name": "ipython",
    "version": 3
   },
   "file_extension": ".py",
   "mimetype": "text/x-python",
   "name": "python",
   "nbconvert_exporter": "python",
   "pygments_lexer": "ipython3",
   "version": "3.7.3"
  }
 },
 "nbformat": 4,
 "nbformat_minor": 2
}
