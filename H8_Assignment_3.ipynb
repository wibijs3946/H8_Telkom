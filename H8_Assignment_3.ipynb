{
 "cells": [
  {
   "cell_type": "markdown",
   "metadata": {},
   "source": [
    "# Assignment 3\n",
    "\n"
   ]
  },
  {
   "cell_type": "markdown",
   "metadata": {},
   "source": [
    "Dalam notebook ini, akan dilakukan pengembangan model Machine Learning menggunakan data e-learning 2020. Penentuan kelulusan e-learning adalah berdasarkan nilai dari POST TEST, sedangkan dalam model yang akan dikembangkan ini, akan coba dilakukan prediksi untuk menentukan kelulusan e-learning berdasarkan feature lain yang ada dalam data tersebut. Dalam pengembangan model ini akan dibandingkan apabila model penentuan kelulusan menggunakan algoritma Logistic Regression, KNN, SVM, Naive Bayes, Decision Tree, dan Random Forest.\n",
    "\n",
    "Secara garis besar, yang akan dilakukan dalam notebook ini adalah sebagai berikut:\n",
    "1. Preprocessing Data\n",
    "2. Logistic Regression\n",
    "3. K-Nearest Neighbor (KNN)\n",
    "4. Support Vector Machine (SVM)\n",
    "5. Naive Bayes\n",
    "6. Decision Tree\n",
    "7. Random Forest\n",
    "8. Visualization\n",
    "9. Conclusion"
   ]
  },
  {
   "cell_type": "markdown",
   "metadata": {},
   "source": [
    "## Preprocessing Data\n",
    "\n",
    "Preprocessing data dilakukan mulai dari importing libraries yang diperlukan, load data, dan data cleaning"
   ]
  },
  {
   "cell_type": "code",
   "execution_count": 1,
   "metadata": {},
   "outputs": [],
   "source": [
    "# Import library dasar yang digunakan\n",
    "import numpy as np\n",
    "import pandas as pd\n",
    "import matplotlib as mpl\n",
    "import matplotlib.pyplot as plt\n",
    "import seaborn as sns\n",
    "\n",
    "%matplotlib inline\n",
    "\n",
    "# Import library sci-kit\n",
    "from sklearn.linear_model import LogisticRegression\n",
    "from sklearn.model_selection import train_test_split\n",
    "from sklearn.metrics import classification_report, confusion_matrix\n",
    "from sklearn.datasets import load_digits\n",
    "from sklearn.preprocessing import StandardScaler\n",
    "from sklearn import metrics\n",
    "from sklearn.neighbors import KNeighborsClassifier\n",
    "from sklearn import model_selection, svm\n",
    "from sklearn.metrics import accuracy_score\n",
    "from sklearn.tree import DecisionTreeClassifier\n",
    "from sklearn.ensemble import RandomForestClassifier\n",
    "from sklearn.naive_bayes import GaussianNB\n",
    "from sklearn.metrics import confusion_matrix"
   ]
  },
  {
   "cell_type": "code",
   "execution_count": 2,
   "metadata": {},
   "outputs": [
    {
     "name": "stderr",
     "output_type": "stream",
     "text": [
      "C:\\ProgramData\\Anaconda3\\lib\\site-packages\\IPython\\core\\interactiveshell.py:3057: DtypeWarning: Columns (10,13,14,15) have mixed types.Specify dtype option on import or set low_memory=False.\n",
      "  interactivity=interactivity, compiler=compiler, result=result)\n"
     ]
    },
    {
     "data": {
      "text/html": [
       "<div>\n",
       "<style scoped>\n",
       "    .dataframe tbody tr th:only-of-type {\n",
       "        vertical-align: middle;\n",
       "    }\n",
       "\n",
       "    .dataframe tbody tr th {\n",
       "        vertical-align: top;\n",
       "    }\n",
       "\n",
       "    .dataframe thead th {\n",
       "        text-align: right;\n",
       "    }\n",
       "</style>\n",
       "<table border=\"1\" class=\"dataframe\">\n",
       "  <thead>\n",
       "    <tr style=\"text-align: right;\">\n",
       "      <th></th>\n",
       "      <th>BULAN</th>\n",
       "      <th>USERNAME</th>\n",
       "      <th>CFU/FU</th>\n",
       "      <th>DIVISI</th>\n",
       "      <th>NAME</th>\n",
       "      <th>SURNAME</th>\n",
       "      <th>HCBP</th>\n",
       "      <th>COURSE</th>\n",
       "      <th>TGL PRE TEST</th>\n",
       "      <th>PRE TEST</th>\n",
       "      <th>TGL POST TEST</th>\n",
       "      <th>POST TEST</th>\n",
       "      <th>STATUS</th>\n",
       "      <th>JOB FAMILY</th>\n",
       "      <th>Unnamed: 14</th>\n",
       "      <th>Unnamed: 15</th>\n",
       "    </tr>\n",
       "  </thead>\n",
       "  <tbody>\n",
       "    <tr>\n",
       "      <th>0</th>\n",
       "      <td>1</td>\n",
       "      <td>120180321</td>\n",
       "      <td>CFU CONSUMER</td>\n",
       "      <td>DIV-TR7</td>\n",
       "      <td>NURFAINI ROFIFAH</td>\n",
       "      <td>-120180321</td>\n",
       "      <td>HCBP 1</td>\n",
       "      <td>9 Core Element of Marketing</td>\n",
       "      <td>2020-01-24</td>\n",
       "      <td>40</td>\n",
       "      <td>-</td>\n",
       "      <td>-</td>\n",
       "      <td>BELUM AKSES</td>\n",
       "      <td>EL - Commerce &amp;amp; Relations</td>\n",
       "      <td>NaN</td>\n",
       "      <td>NaN</td>\n",
       "    </tr>\n",
       "    <tr>\n",
       "      <th>1</th>\n",
       "      <td>1</td>\n",
       "      <td>625140</td>\n",
       "      <td>CFU CONSUMER</td>\n",
       "      <td>DIV-TR2</td>\n",
       "      <td>SAMAD PANENGKE</td>\n",
       "      <td>-625140</td>\n",
       "      <td>HCBP 1</td>\n",
       "      <td>PT - 2 Project</td>\n",
       "      <td>2020-01-29</td>\n",
       "      <td>80</td>\n",
       "      <td>2020-01-31</td>\n",
       "      <td>100</td>\n",
       "      <td>LULUS</td>\n",
       "      <td>NaN</td>\n",
       "      <td>NaN</td>\n",
       "      <td>NaN</td>\n",
       "    </tr>\n",
       "    <tr>\n",
       "      <th>2</th>\n",
       "      <td>1</td>\n",
       "      <td>625143</td>\n",
       "      <td>CFU CONSUMER</td>\n",
       "      <td>DIV-TR2</td>\n",
       "      <td>DEDI SARDANI</td>\n",
       "      <td>-625143</td>\n",
       "      <td>HCBP 1</td>\n",
       "      <td>CX Transformation Program Behavior Skill Techn...</td>\n",
       "      <td>2020-01-27</td>\n",
       "      <td>70</td>\n",
       "      <td>2020-01-28</td>\n",
       "      <td>93.33</td>\n",
       "      <td>LULUS</td>\n",
       "      <td>NaN</td>\n",
       "      <td>NaN</td>\n",
       "      <td>NaN</td>\n",
       "    </tr>\n",
       "    <tr>\n",
       "      <th>3</th>\n",
       "      <td>1</td>\n",
       "      <td>625143</td>\n",
       "      <td>CFU CONSUMER</td>\n",
       "      <td>DIV-TR2</td>\n",
       "      <td>DEDI SARDANI</td>\n",
       "      <td>-625143</td>\n",
       "      <td>HCBP 1</td>\n",
       "      <td>CX Transformation Program Behavior Skill Techn...</td>\n",
       "      <td>2020-01-27</td>\n",
       "      <td>40</td>\n",
       "      <td>2020-01-28</td>\n",
       "      <td>100</td>\n",
       "      <td>LULUS</td>\n",
       "      <td>NaN</td>\n",
       "      <td>NaN</td>\n",
       "      <td>NaN</td>\n",
       "    </tr>\n",
       "    <tr>\n",
       "      <th>4</th>\n",
       "      <td>1</td>\n",
       "      <td>625143</td>\n",
       "      <td>CFU CONSUMER</td>\n",
       "      <td>DIV-TR2</td>\n",
       "      <td>DEDI SARDANI</td>\n",
       "      <td>-625143</td>\n",
       "      <td>HCBP 1</td>\n",
       "      <td>DigiERP</td>\n",
       "      <td>2020-01-28</td>\n",
       "      <td>80</td>\n",
       "      <td>2020-01-28</td>\n",
       "      <td>85</td>\n",
       "      <td>LULUS</td>\n",
       "      <td>NaN</td>\n",
       "      <td>NaN</td>\n",
       "      <td>NaN</td>\n",
       "    </tr>\n",
       "    <tr>\n",
       "      <th>5</th>\n",
       "      <td>1</td>\n",
       "      <td>625146</td>\n",
       "      <td>CFU CONSUMER</td>\n",
       "      <td>DIV-TR2</td>\n",
       "      <td>BAHRUDIN</td>\n",
       "      <td>-625146</td>\n",
       "      <td>HCBP 1</td>\n",
       "      <td>CX Transformation Program Behavior Skill Techn...</td>\n",
       "      <td>2020-01-22</td>\n",
       "      <td>90</td>\n",
       "      <td>2020-01-22</td>\n",
       "      <td>93.33</td>\n",
       "      <td>LULUS</td>\n",
       "      <td>NaN</td>\n",
       "      <td>NaN</td>\n",
       "      <td>NaN</td>\n",
       "    </tr>\n",
       "    <tr>\n",
       "      <th>6</th>\n",
       "      <td>1</td>\n",
       "      <td>625146</td>\n",
       "      <td>CFU CONSUMER</td>\n",
       "      <td>DIV-TR2</td>\n",
       "      <td>BAHRUDIN</td>\n",
       "      <td>-625146</td>\n",
       "      <td>HCBP 1</td>\n",
       "      <td>CX Transformation Program Behavior Skill Techn...</td>\n",
       "      <td>2020-01-22</td>\n",
       "      <td>80</td>\n",
       "      <td>2020-01-22</td>\n",
       "      <td>80</td>\n",
       "      <td>LULUS</td>\n",
       "      <td>NaN</td>\n",
       "      <td>NaN</td>\n",
       "      <td>NaN</td>\n",
       "    </tr>\n",
       "    <tr>\n",
       "      <th>7</th>\n",
       "      <td>1</td>\n",
       "      <td>625146</td>\n",
       "      <td>CFU CONSUMER</td>\n",
       "      <td>DIV-TR2</td>\n",
       "      <td>BAHRUDIN</td>\n",
       "      <td>-625146</td>\n",
       "      <td>HCBP 1</td>\n",
       "      <td>DigiERP</td>\n",
       "      <td>2020-01-22</td>\n",
       "      <td>80</td>\n",
       "      <td>2020-01-22</td>\n",
       "      <td>85</td>\n",
       "      <td>LULUS</td>\n",
       "      <td>NaN</td>\n",
       "      <td>NaN</td>\n",
       "      <td>NaN</td>\n",
       "    </tr>\n",
       "    <tr>\n",
       "      <th>8</th>\n",
       "      <td>1</td>\n",
       "      <td>625154</td>\n",
       "      <td>CFU CONSUMER</td>\n",
       "      <td>DIV-TR2</td>\n",
       "      <td>MUHIZAT SYEH IRIANTO</td>\n",
       "      <td>-625154</td>\n",
       "      <td>HCBP 1</td>\n",
       "      <td>CX Transformation Program Behavior Skill Techn...</td>\n",
       "      <td>2020-01-23</td>\n",
       "      <td>80</td>\n",
       "      <td>2020-01-28</td>\n",
       "      <td>73.33</td>\n",
       "      <td>LULUS</td>\n",
       "      <td>NaN</td>\n",
       "      <td>NaN</td>\n",
       "      <td>NaN</td>\n",
       "    </tr>\n",
       "    <tr>\n",
       "      <th>9</th>\n",
       "      <td>1</td>\n",
       "      <td>625154</td>\n",
       "      <td>CFU CONSUMER</td>\n",
       "      <td>DIV-TR2</td>\n",
       "      <td>MUHIZAT SYEH IRIANTO</td>\n",
       "      <td>-625154</td>\n",
       "      <td>HCBP 1</td>\n",
       "      <td>CX Transformation Program Behavior Skill Techn...</td>\n",
       "      <td>2020-01-23</td>\n",
       "      <td>90</td>\n",
       "      <td>2020-01-28</td>\n",
       "      <td>86.67</td>\n",
       "      <td>LULUS</td>\n",
       "      <td>NaN</td>\n",
       "      <td>NaN</td>\n",
       "      <td>NaN</td>\n",
       "    </tr>\n",
       "  </tbody>\n",
       "</table>\n",
       "</div>"
      ],
      "text/plain": [
       "   BULAN   USERNAME        CFU/FU   DIVISI                  NAME     SURNAME  \\\n",
       "0      1  120180321  CFU CONSUMER  DIV-TR7      NURFAINI ROFIFAH  -120180321   \n",
       "1      1     625140  CFU CONSUMER  DIV-TR2        SAMAD PANENGKE     -625140   \n",
       "2      1     625143  CFU CONSUMER  DIV-TR2          DEDI SARDANI     -625143   \n",
       "3      1     625143  CFU CONSUMER  DIV-TR2          DEDI SARDANI     -625143   \n",
       "4      1     625143  CFU CONSUMER  DIV-TR2          DEDI SARDANI     -625143   \n",
       "5      1     625146  CFU CONSUMER  DIV-TR2              BAHRUDIN     -625146   \n",
       "6      1     625146  CFU CONSUMER  DIV-TR2              BAHRUDIN     -625146   \n",
       "7      1     625146  CFU CONSUMER  DIV-TR2              BAHRUDIN     -625146   \n",
       "8      1     625154  CFU CONSUMER  DIV-TR2  MUHIZAT SYEH IRIANTO     -625154   \n",
       "9      1     625154  CFU CONSUMER  DIV-TR2  MUHIZAT SYEH IRIANTO     -625154   \n",
       "\n",
       "     HCBP                                             COURSE TGL PRE TEST  \\\n",
       "0  HCBP 1                        9 Core Element of Marketing   2020-01-24   \n",
       "1  HCBP 1                                     PT - 2 Project   2020-01-29   \n",
       "2  HCBP 1  CX Transformation Program Behavior Skill Techn...   2020-01-27   \n",
       "3  HCBP 1  CX Transformation Program Behavior Skill Techn...   2020-01-27   \n",
       "4  HCBP 1                                            DigiERP   2020-01-28   \n",
       "5  HCBP 1  CX Transformation Program Behavior Skill Techn...   2020-01-22   \n",
       "6  HCBP 1  CX Transformation Program Behavior Skill Techn...   2020-01-22   \n",
       "7  HCBP 1                                            DigiERP   2020-01-22   \n",
       "8  HCBP 1  CX Transformation Program Behavior Skill Techn...   2020-01-23   \n",
       "9  HCBP 1  CX Transformation Program Behavior Skill Techn...   2020-01-23   \n",
       "\n",
       "  PRE TEST TGL POST TEST POST TEST       STATUS  \\\n",
       "0       40             -         -  BELUM AKSES   \n",
       "1       80    2020-01-31       100        LULUS   \n",
       "2       70    2020-01-28     93.33        LULUS   \n",
       "3       40    2020-01-28       100        LULUS   \n",
       "4       80    2020-01-28        85        LULUS   \n",
       "5       90    2020-01-22     93.33        LULUS   \n",
       "6       80    2020-01-22        80        LULUS   \n",
       "7       80    2020-01-22        85        LULUS   \n",
       "8       80    2020-01-28     73.33        LULUS   \n",
       "9       90    2020-01-28     86.67        LULUS   \n",
       "\n",
       "                      JOB FAMILY Unnamed: 14 Unnamed: 15  \n",
       "0  EL - Commerce &amp; Relations         NaN         NaN  \n",
       "1                            NaN         NaN         NaN  \n",
       "2                            NaN         NaN         NaN  \n",
       "3                            NaN         NaN         NaN  \n",
       "4                            NaN         NaN         NaN  \n",
       "5                            NaN         NaN         NaN  \n",
       "6                            NaN         NaN         NaN  \n",
       "7                            NaN         NaN         NaN  \n",
       "8                            NaN         NaN         NaN  \n",
       "9                            NaN         NaN         NaN  "
      ]
     },
     "execution_count": 2,
     "metadata": {},
     "output_type": "execute_result"
    }
   ],
   "source": [
    "# Read csv data\n",
    "df = pd.read_csv('dataset/ELearn_2020.csv')\n",
    "df.head(10)"
   ]
  },
  {
   "cell_type": "code",
   "execution_count": 3,
   "metadata": {},
   "outputs": [
    {
     "data": {
      "text/plain": [
       "(289057, 14)"
      ]
     },
     "execution_count": 3,
     "metadata": {},
     "output_type": "execute_result"
    }
   ],
   "source": [
    "# Drop kolom yang tidak memiliki value seperti 'Unnamed: 14' dan 'Unnamed: 15'\n",
    "df.drop(['Unnamed: 14', 'Unnamed: 15'], axis=1, inplace=True)\n",
    "df.shape"
   ]
  },
  {
   "cell_type": "code",
   "execution_count": 4,
   "metadata": {},
   "outputs": [
    {
     "data": {
      "text/plain": [
       "(184222, 14)"
      ]
     },
     "execution_count": 4,
     "metadata": {},
     "output_type": "execute_result"
    }
   ],
   "source": [
    "# Karena kita akan mengembangkan model terkait kelulusan e-learning, ambil data yang memiliki value 'LULUS' atau 'TIDAK LULUS' dalam kolom 'STATUS KELULUSAN'\n",
    "df_clean = df[(df['STATUS'] == 'LULUS') | (df['STATUS'] == 'TIDAK LULUS')]\n",
    "df_clean.shape"
   ]
  },
  {
   "cell_type": "code",
   "execution_count": 5,
   "metadata": {},
   "outputs": [
    {
     "name": "stdout",
     "output_type": "stream",
     "text": [
      "<class 'pandas.core.frame.DataFrame'>\n",
      "RangeIndex: 289057 entries, 0 to 289056\n",
      "Data columns (total 14 columns):\n",
      " #   Column         Non-Null Count   Dtype \n",
      "---  ------         --------------   ----- \n",
      " 0   BULAN          289057 non-null  int64 \n",
      " 1   USERNAME       289057 non-null  object\n",
      " 2   CFU/FU         288919 non-null  object\n",
      " 3   DIVISI         288918 non-null  object\n",
      " 4   NAME           289054 non-null  object\n",
      " 5   SURNAME        289057 non-null  object\n",
      " 6   HCBP           288742 non-null  object\n",
      " 7   COURSE         289057 non-null  object\n",
      " 8   TGL PRE TEST   284910 non-null  object\n",
      " 9   PRE TEST       284910 non-null  object\n",
      " 10  TGL POST TEST  284910 non-null  object\n",
      " 11  POST TEST      289057 non-null  object\n",
      " 12  STATUS         289057 non-null  object\n",
      " 13  JOB FAMILY     189474 non-null  object\n",
      "dtypes: int64(1), object(13)\n",
      "memory usage: 30.9+ MB\n"
     ]
    }
   ],
   "source": [
    "df.info()"
   ]
  },
  {
   "cell_type": "markdown",
   "metadata": {},
   "source": [
    "Kita akan mengembangkan model kelulusan e-learning berdasarkan 'CFU/FU', 'DIVISI', 'HCBP', dan nilai 'PRE TEST'. Oleh karena itu kita akan membuang data-data yang tidak diperlukan"
   ]
  },
  {
   "cell_type": "code",
   "execution_count": 6,
   "metadata": {},
   "outputs": [
    {
     "name": "stderr",
     "output_type": "stream",
     "text": [
      "C:\\Users\\890092\\AppData\\Roaming\\Python\\Python37\\site-packages\\pandas\\core\\frame.py:4312: SettingWithCopyWarning: \n",
      "A value is trying to be set on a copy of a slice from a DataFrame\n",
      "\n",
      "See the caveats in the documentation: https://pandas.pydata.org/pandas-docs/stable/user_guide/indexing.html#returning-a-view-versus-a-copy\n",
      "  errors=errors,\n"
     ]
    }
   ],
   "source": [
    "# Drop data yang tidak diperlukan\n",
    "df_clean.drop(['BULAN', 'USERNAME', 'NAME', 'SURNAME', 'COURSE', 'TGL PRE TEST', 'TGL POST TEST', 'JOB FAMILY', 'POST TEST'], axis=1, inplace=True)"
   ]
  },
  {
   "cell_type": "code",
   "execution_count": 7,
   "metadata": {},
   "outputs": [
    {
     "data": {
      "text/plain": [
       "-        34289\n",
       "80       21703\n",
       "60       18496\n",
       "70       18293\n",
       "100      17884\n",
       "         ...  \n",
       "42.22        1\n",
       "24.17        1\n",
       "2.67         1\n",
       "90.83        1\n",
       "34.17        1\n",
       "Name: PRE TEST, Length: 121, dtype: int64"
      ]
     },
     "execution_count": 7,
     "metadata": {},
     "output_type": "execute_result"
    }
   ],
   "source": [
    "# Cek kenapa Pre Test dikategorikan sebagai object\n",
    "df_clean['PRE TEST'].value_counts()"
   ]
  },
  {
   "cell_type": "markdown",
   "metadata": {},
   "source": [
    "Ternyata diketahui bahwa ada nilai '-' di kolom Pre Test. Nilai ini perlu kita convert dulu ke NaN sehingga dapat dibersihkan dan kemudian kita konversi ke numeric value"
   ]
  },
  {
   "cell_type": "code",
   "execution_count": 8,
   "metadata": {},
   "outputs": [
    {
     "name": "stderr",
     "output_type": "stream",
     "text": [
      "C:\\Users\\890092\\AppData\\Roaming\\Python\\Python37\\site-packages\\pandas\\core\\series.py:4485: SettingWithCopyWarning: \n",
      "A value is trying to be set on a copy of a slice from a DataFrame\n",
      "\n",
      "See the caveats in the documentation: https://pandas.pydata.org/pandas-docs/stable/user_guide/indexing.html#returning-a-view-versus-a-copy\n",
      "  method=method,\n"
     ]
    },
    {
     "data": {
      "text/plain": [
       "CFU/FU        105\n",
       "DIVISI        112\n",
       "HCBP          275\n",
       "PRE TEST    34289\n",
       "STATUS          0\n",
       "dtype: int64"
      ]
     },
     "execution_count": 8,
     "metadata": {},
     "output_type": "execute_result"
    }
   ],
   "source": [
    "# Konversi nilai '-' pada kolom Pre Test menjadi NaN\n",
    "df_clean['PRE TEST'].replace('-', np.nan, inplace=True)\n",
    "\n",
    "df_clean.isnull().sum()"
   ]
  },
  {
   "cell_type": "code",
   "execution_count": 9,
   "metadata": {},
   "outputs": [
    {
     "name": "stderr",
     "output_type": "stream",
     "text": [
      "C:\\ProgramData\\Anaconda3\\lib\\site-packages\\ipykernel_launcher.py:2: SettingWithCopyWarning: \n",
      "A value is trying to be set on a copy of a slice from a DataFrame\n",
      "\n",
      "See the caveats in the documentation: https://pandas.pydata.org/pandas-docs/stable/user_guide/indexing.html#returning-a-view-versus-a-copy\n",
      "  \n"
     ]
    }
   ],
   "source": [
    "# Drop missing value pada dataframe df_clean\n",
    "df_clean.dropna(inplace=True)"
   ]
  },
  {
   "cell_type": "code",
   "execution_count": 10,
   "metadata": {},
   "outputs": [
    {
     "name": "stderr",
     "output_type": "stream",
     "text": [
      "C:\\ProgramData\\Anaconda3\\lib\\site-packages\\ipykernel_launcher.py:3: SettingWithCopyWarning: \n",
      "A value is trying to be set on a copy of a slice from a DataFrame.\n",
      "Try using .loc[row_indexer,col_indexer] = value instead\n",
      "\n",
      "See the caveats in the documentation: https://pandas.pydata.org/pandas-docs/stable/user_guide/indexing.html#returning-a-view-versus-a-copy\n",
      "  This is separate from the ipykernel package so we can avoid doing imports until\n",
      "C:\\ProgramData\\Anaconda3\\lib\\site-packages\\ipykernel_launcher.py:12: SettingWithCopyWarning: \n",
      "A value is trying to be set on a copy of a slice from a DataFrame.\n",
      "Try using .loc[row_indexer,col_indexer] = value instead\n",
      "\n",
      "See the caveats in the documentation: https://pandas.pydata.org/pandas-docs/stable/user_guide/indexing.html#returning-a-view-versus-a-copy\n",
      "  if sys.path[0] == '':\n"
     ]
    },
    {
     "data": {
      "text/html": [
       "<div>\n",
       "<style scoped>\n",
       "    .dataframe tbody tr th:only-of-type {\n",
       "        vertical-align: middle;\n",
       "    }\n",
       "\n",
       "    .dataframe tbody tr th {\n",
       "        vertical-align: top;\n",
       "    }\n",
       "\n",
       "    .dataframe thead th {\n",
       "        text-align: right;\n",
       "    }\n",
       "</style>\n",
       "<table border=\"1\" class=\"dataframe\">\n",
       "  <thead>\n",
       "    <tr style=\"text-align: right;\">\n",
       "      <th></th>\n",
       "      <th>CFU/FU</th>\n",
       "      <th>DIVISI</th>\n",
       "      <th>HCBP</th>\n",
       "      <th>PRE TEST</th>\n",
       "      <th>STATUS</th>\n",
       "    </tr>\n",
       "  </thead>\n",
       "  <tbody>\n",
       "    <tr>\n",
       "      <th>1</th>\n",
       "      <td>14</td>\n",
       "      <td>36</td>\n",
       "      <td>13</td>\n",
       "      <td>80.0</td>\n",
       "      <td>LULUS</td>\n",
       "    </tr>\n",
       "    <tr>\n",
       "      <th>2</th>\n",
       "      <td>14</td>\n",
       "      <td>36</td>\n",
       "      <td>13</td>\n",
       "      <td>70.0</td>\n",
       "      <td>LULUS</td>\n",
       "    </tr>\n",
       "    <tr>\n",
       "      <th>3</th>\n",
       "      <td>14</td>\n",
       "      <td>36</td>\n",
       "      <td>13</td>\n",
       "      <td>40.0</td>\n",
       "      <td>LULUS</td>\n",
       "    </tr>\n",
       "    <tr>\n",
       "      <th>4</th>\n",
       "      <td>14</td>\n",
       "      <td>36</td>\n",
       "      <td>13</td>\n",
       "      <td>80.0</td>\n",
       "      <td>LULUS</td>\n",
       "    </tr>\n",
       "    <tr>\n",
       "      <th>5</th>\n",
       "      <td>14</td>\n",
       "      <td>36</td>\n",
       "      <td>13</td>\n",
       "      <td>90.0</td>\n",
       "      <td>LULUS</td>\n",
       "    </tr>\n",
       "  </tbody>\n",
       "</table>\n",
       "</div>"
      ],
      "text/plain": [
       "   CFU/FU  DIVISI  HCBP  PRE TEST STATUS\n",
       "1      14      36    13      80.0  LULUS\n",
       "2      14      36    13      70.0  LULUS\n",
       "3      14      36    13      40.0  LULUS\n",
       "4      14      36    13      80.0  LULUS\n",
       "5      14      36    13      90.0  LULUS"
      ]
     },
     "execution_count": 10,
     "metadata": {},
     "output_type": "execute_result"
    }
   ],
   "source": [
    "# Konversi value dalam masing-masing kolom agar dapat diolah untuk pengembangan model\n",
    "# Konversi nilai Pre Test menjadi numeric\n",
    "df_clean['PRE TEST'] = pd.to_numeric(df_clean['PRE TEST'])\n",
    "\n",
    "# Konversi categorical value dalam kolom CFU/FU, DIVISI, dan HCBP menjadi numeric\n",
    "from sklearn.preprocessing import LabelEncoder\n",
    "\n",
    "object_cols = ['CFU/FU','DIVISI','HCBP']\n",
    "\n",
    "label_encoder = LabelEncoder()\n",
    "for col in object_cols:\n",
    "    df_clean[col] = label_encoder.fit_transform(df_clean[col])\n",
    "df_clean.head()"
   ]
  },
  {
   "cell_type": "markdown",
   "metadata": {},
   "source": [
    "Data sudah siap untuk diproses selanjutnya"
   ]
  },
  {
   "cell_type": "markdown",
   "metadata": {},
   "source": [
    "## Logistic Regression\n",
    "\n",
    "Cara kerja Logistic Regression adalah memprediksi probabilitas sampel kita termasuk dalam satu klasifikasi versus klasifikasi lainnya. Nilai keluaran dalam logistic regression adalah klasifikasi bernomor, tetapi sebelum klasifikasi diberikan, keluaran yang aktual adalah probabilitas numerik dalam rentang 0 sampai 1. "
   ]
  },
  {
   "cell_type": "code",
   "execution_count": 11,
   "metadata": {},
   "outputs": [],
   "source": [
    "# Tentukan nilai x dan y yang akan digunakan, nilai y adalah data status kelulusan, sedangkan nilai x adalah data lainnya \n",
    "x = df_clean.drop('STATUS', 1)\n",
    "y = df_clean['STATUS']"
   ]
  },
  {
   "cell_type": "code",
   "execution_count": 12,
   "metadata": {},
   "outputs": [],
   "source": [
    "# Split data untuk mengambil nilai x_train, x_test, y_train, dan y_test\n",
    "x_train, x_test, y_train, y_test = train_test_split(x, y, test_size=0.3, random_state=42)"
   ]
  },
  {
   "cell_type": "code",
   "execution_count": 13,
   "metadata": {},
   "outputs": [
    {
     "data": {
      "text/plain": [
       "LogisticRegression(C=1.0, class_weight=None, dual=False, fit_intercept=True,\n",
       "                   intercept_scaling=1, l1_ratio=None, max_iter=100,\n",
       "                   multi_class='warn', n_jobs=None, penalty='l2',\n",
       "                   random_state=None, solver='liblinear', tol=0.0001, verbose=0,\n",
       "                   warm_start=False)"
      ]
     },
     "execution_count": 13,
     "metadata": {},
     "output_type": "execute_result"
    }
   ],
   "source": [
    "# Create model logistic regression\n",
    "model = LogisticRegression(solver='liblinear')\n",
    "\n",
    "# Train the model\n",
    "model.fit(x_train, y_train)"
   ]
  },
  {
   "cell_type": "code",
   "execution_count": 14,
   "metadata": {},
   "outputs": [
    {
     "data": {
      "text/plain": [
       "array(['LULUS', 'TIDAK LULUS'], dtype=object)"
      ]
     },
     "execution_count": 14,
     "metadata": {},
     "output_type": "execute_result"
    }
   ],
   "source": [
    "# tampilkan model classes\n",
    "model.classes_"
   ]
  },
  {
   "cell_type": "code",
   "execution_count": 15,
   "metadata": {},
   "outputs": [],
   "source": [
    "# Hitung nilai y_pred\n",
    "y_pred = model.predict(x_test)"
   ]
  },
  {
   "cell_type": "code",
   "execution_count": 16,
   "metadata": {},
   "outputs": [
    {
     "data": {
      "text/plain": [
       "0.8906385727331447"
      ]
     },
     "execution_count": 16,
     "metadata": {},
     "output_type": "execute_result"
    }
   ],
   "source": [
    "# Hitung akurasi dari model\n",
    "LR_acc = metrics.accuracy_score(y_pred, y_test)\n",
    "LR_acc"
   ]
  },
  {
   "cell_type": "markdown",
   "metadata": {},
   "source": [
    "## K-Nearest Neighbour\n",
    "\n",
    "KNN adalah algoritma non-parametric dan lazy learning algorithm. Non-parametric berarti tidak ada asumsi untuk distribusi data yang mendasarinya. Dengan kata lain, struktur model ditentukan dari dataset. Lazy algorithm berarti tidak memerlukan training data points untuk pembuatan model. Semua data latihan digunakan dalam tahap pengujian. Ini membuat pelatihan lebih cepat dan fase pengujian lebih lambat dan lebih mahal dalam hal waktu dan memori."
   ]
  },
  {
   "cell_type": "code",
   "execution_count": 17,
   "metadata": {},
   "outputs": [],
   "source": [
    "# Tentukan data yang akan digunakan untuk training dan testing\n",
    "knn_x_train, knn_x_test, knn_y_train, knn_y_test = train_test_split(x, y, test_size=0.3, random_state=42)"
   ]
  },
  {
   "cell_type": "code",
   "execution_count": 18,
   "metadata": {},
   "outputs": [],
   "source": [
    "# Create KNN Classifier\n",
    "knn = KNeighborsClassifier(n_neighbors=8)\n",
    "\n",
    "# Train the model using the training sets\n",
    "knn.fit(knn_x_train, knn_y_train)\n",
    "\n",
    "# Hitung nilai y_pred\n",
    "knn_y_pred = knn.predict(knn_x_test)"
   ]
  },
  {
   "cell_type": "code",
   "execution_count": 19,
   "metadata": {},
   "outputs": [
    {
     "data": {
      "text/plain": [
       "0.8912622224202063"
      ]
     },
     "execution_count": 19,
     "metadata": {},
     "output_type": "execute_result"
    }
   ],
   "source": [
    "# Hitung akurasi dari model tersebut\n",
    "KNN_acc = metrics.accuracy_score(knn_y_pred, knn_y_test)\n",
    "KNN_acc"
   ]
  },
  {
   "cell_type": "markdown",
   "metadata": {},
   "source": [
    "## Support Vector Machine\n",
    "\n",
    "Support Vector Machine (SVM) dianggap sebagai classification approach, tetapi dapat digunakan di kedua jenis masalah klasifikasi dan regresi. SVM dapat dengan mudah menangani beberapa variabel kontinu dan kategorikal. SVM bekerja dengan cara membangun hyperplane dalam multidimensional space untuk memisahkan kelas yang berbeda. SVM menghasilkan hyperplane optimal secara berulang, yang digunakan untuk meminimalkan kesalahan. Ide inti dari SVM adalah menemukan maximum marginal hyperplane yang paling baik membagi dataset menjadi beberapa kelas"
   ]
  },
  {
   "cell_type": "code",
   "execution_count": 20,
   "metadata": {},
   "outputs": [
    {
     "data": {
      "text/plain": [
       "array([[-0.38281253, -1.21908589, -0.0094139 ,  0.615073  ],\n",
       "       [-0.38281253, -1.21908589, -0.0094139 ,  0.23779243],\n",
       "       [-0.38281253, -1.21908589, -0.0094139 , -0.89404928],\n",
       "       ...,\n",
       "       [-0.38281253,  0.76375286, -0.0094139 , -0.51676871],\n",
       "       [-0.38281253,  0.76375286, -0.0094139 ,  1.36963414],\n",
       "       [-0.38281253,  0.76375286, -0.0094139 , -0.89404928]])"
      ]
     },
     "execution_count": 20,
     "metadata": {},
     "output_type": "execute_result"
    }
   ],
   "source": [
    "scaler = StandardScaler()\n",
    "x_scale = scaler.fit_transform(x)\n",
    "x_scale"
   ]
  },
  {
   "cell_type": "code",
   "execution_count": 21,
   "metadata": {},
   "outputs": [],
   "source": [
    "svm_x_train, svm_x_test, svm_y_train, svm_y_test = train_test_split(x_scale, y, test_size=0.3, random_state=42)"
   ]
  },
  {
   "cell_type": "code",
   "execution_count": 22,
   "metadata": {},
   "outputs": [],
   "source": [
    "#Create a svm Classifier\n",
    "#clf = svm.SVC(kernel='linear') # Linear Kernel\n",
    "\n",
    "#Train the model using the training sets\n",
    "#clf.fit(svm_x_train, svm_y_train) \n",
    "\n",
    "#Predict the response for test dataset\n",
    "#svm_y_pred = clf.predict(svm_x_test)"
   ]
  },
  {
   "cell_type": "code",
   "execution_count": 23,
   "metadata": {},
   "outputs": [],
   "source": [
    "#accuracy_score(svm_y_test, svm_y_pred)"
   ]
  },
  {
   "cell_type": "markdown",
   "metadata": {},
   "source": [
    "**Support Vector Machine tidak dapat dijalankan untuk data ini, dan tidak diketahui alasannya. Proses berjalan terus menerus dan tidak selesai setelah command dijalankan selama 2 jam. Oleh karena itu, model SVM tidak dapat digunakan dalam data ini**"
   ]
  },
  {
   "cell_type": "markdown",
   "metadata": {},
   "source": [
    "## Naive Bayes\n",
    "\n",
    "Naive Bayes adalah teknik klasifikasi statistik berdasarkan Bayes Theorem. Ini adalah salah satu supervised learning algorithm yang paling sederhana. Naive Bayes classifier adalah algoritma yang cepat, akurat, dan andal. Naive Bayes classifier memiliki akurasi dan kecepatan tinggi pada kumpulan data besar. Dalam Naive Bayes Theorem, diasumsikan bahwa efek fitur tertentu dalam kelas tidak bergantung pada fitur lainnya."
   ]
  },
  {
   "cell_type": "code",
   "execution_count": 24,
   "metadata": {},
   "outputs": [],
   "source": [
    "# Tentukan data yang akan digunakan untuk training dan testing\n",
    "nb_x_train, nb_x_test, nb_y_train, nb_y_test = train_test_split(x, y, test_size=0.3, random_state=42)"
   ]
  },
  {
   "cell_type": "code",
   "execution_count": 25,
   "metadata": {},
   "outputs": [],
   "source": [
    "# Create Naive Bayes classifier\n",
    "nb = GaussianNB()\n",
    "\n",
    "# Train Naive Bayes Classifier\n",
    "nb.fit(nb_x_train, nb_y_train)\n",
    "\n",
    "# Hitung nilai y_pred\n",
    "nb_y_pred = nb.predict(nb_x_test)"
   ]
  },
  {
   "cell_type": "code",
   "execution_count": 26,
   "metadata": {},
   "outputs": [
    {
     "data": {
      "text/plain": [
       "0.8401674944873823"
      ]
     },
     "execution_count": 26,
     "metadata": {},
     "output_type": "execute_result"
    }
   ],
   "source": [
    "# Hitung akurasi dari model tersebut\n",
    "NB_acc = metrics.accuracy_score(nb_y_test, nb_y_pred)\n",
    "NB_acc"
   ]
  },
  {
   "cell_type": "markdown",
   "metadata": {},
   "source": [
    "## Decision Tree\n",
    "\n",
    "Decision tree adalah flowchart-like tree structure dimana internal node mewakili feature, branch mewakili decision rule, dan setiap leaf-node mewakili outcome. Node paling atas dalam decision tree dikenal sebagai root-node. Root-node belajar untuk mempartisi berdasarkan nilai atribut. Root-node mempartisi tree secara rekursif memanggil partisi rekursif. "
   ]
  },
  {
   "cell_type": "code",
   "execution_count": 27,
   "metadata": {},
   "outputs": [],
   "source": [
    "# Tentukan data yang akan digunakan untuk training dan testing\n",
    "dt_x_train, dt_x_test, dt_y_train, dt_y_test = train_test_split(x, y, test_size=0.3, random_state=42)"
   ]
  },
  {
   "cell_type": "code",
   "execution_count": 28,
   "metadata": {},
   "outputs": [],
   "source": [
    "# Create Decision Tree classifer object\n",
    "dt = DecisionTreeClassifier()\n",
    "\n",
    "# Train Decision Tree Classifer\n",
    "dt = dt.fit(dt_x_train, dt_y_train)\n",
    "\n",
    "# Hitung nilai y_pred\n",
    "dt_y_pred = dt.predict(dt_x_test)"
   ]
  },
  {
   "cell_type": "code",
   "execution_count": 29,
   "metadata": {},
   "outputs": [
    {
     "data": {
      "text/plain": [
       "0.8904158407020514"
      ]
     },
     "execution_count": 29,
     "metadata": {},
     "output_type": "execute_result"
    }
   ],
   "source": [
    "# Hitung akurasi dari model tersebut\n",
    "DT_acc = metrics.accuracy_score(dt_y_test, dt_y_pred)\n",
    "DT_acc"
   ]
  },
  {
   "cell_type": "markdown",
   "metadata": {},
   "source": [
    "## Random Forest\n",
    "\n",
    "Random forest adalah ensemble method dari decision trees yang dihasilkan pada dataset yang dipisahkan secara acak. Kumpulan decision tree classifiers ini dikenal sebagai forest. Decision trees individu dihasilkan menggunakan indikator pemilihan atribut seperti information gain, gain ratio, dan Gini index untuk setiap atribut. Dalam problem klasifikasi, setiap pohon/tree memilih dan kelas paling populer dipilih sebagai hasil akhir. **Ini lebih sederhana dan lebih kuat dibandingkan dengan algoritma klasifikasi non-linear lainnya.**"
   ]
  },
  {
   "cell_type": "code",
   "execution_count": 30,
   "metadata": {},
   "outputs": [],
   "source": [
    "# Tentukan data yang akan digunakan untuk training dan testing\n",
    "rf_x_train, rf_x_test, rf_y_train, rf_y_test = train_test_split(x, y, test_size=0.3, random_state=42)"
   ]
  },
  {
   "cell_type": "code",
   "execution_count": 31,
   "metadata": {},
   "outputs": [],
   "source": [
    "# Create Random Forest Classifier\n",
    "RF = RandomForestClassifier(n_estimators=100)\n",
    "\n",
    "# # Train Random Forest Classifer\n",
    "RF.fit(rf_x_train, rf_y_train) \n",
    "\n",
    "# Hitung nilai y_pred\n",
    "rf_y_pred = RF.predict(rf_x_test)"
   ]
  },
  {
   "cell_type": "code",
   "execution_count": 32,
   "metadata": {},
   "outputs": [
    {
     "data": {
      "text/plain": [
       "0.890393567498942"
      ]
     },
     "execution_count": 32,
     "metadata": {},
     "output_type": "execute_result"
    }
   ],
   "source": [
    "# Hitung akurasi dari model tersebut\n",
    "RF_acc = metrics.accuracy_score(rf_y_test, rf_y_pred)\n",
    "RF_acc"
   ]
  },
  {
   "cell_type": "markdown",
   "metadata": {},
   "source": [
    "## Visualization\n",
    "\n",
    "Dalam bagian visualisasi ini kita akan coba menganalisa data berdasarkan hasil visualisasinya seperti confusion matrix dari naive bayes, error rate dalam KNN, dan feature importance pada random forest"
   ]
  },
  {
   "cell_type": "markdown",
   "metadata": {},
   "source": [
    "### Confusion Matrix Algoritma Naive Bayes"
   ]
  },
  {
   "cell_type": "code",
   "execution_count": 33,
   "metadata": {},
   "outputs": [
    {
     "data": {
      "image/png": "[encoded data removed]",
      "text/plain": [
       "<Figure size 576x576 with 1 Axes>"
      ]
     },
     "metadata": {
      "needs_background": "light"
     },
     "output_type": "display_data"
    }
   ],
   "source": [
    "# Confusion Matrix Algoritma Naive Bayes\n",
    "cm = confusion_matrix(nb_y_test, nb_y_pred)\n",
    "\n",
    "# Plot Confusion Matrix\n",
    "fig, ax = plt.subplots(figsize=(8, 8))\n",
    "ax.imshow(cm)\n",
    "ax.grid(False)\n",
    "ax.xaxis.set(ticks=(0, 1), ticklabels=('Predicted 0s', 'Predicted 1s'))\n",
    "ax.yaxis.set(ticks=(0, 1), ticklabels=('Actual 0s', 'Actual 1s'))\n",
    "ax.set_ylim(1.5, -0.5)\n",
    "for i in range(2):\n",
    "    for j in range(2):\n",
    "        ax.text(j, i, cm[i, j], ha='center', va='center', color='red')\n",
    "plt.show()"
   ]
  },
  {
   "cell_type": "markdown",
   "metadata": {},
   "source": [
    "Confusion Matrix dapat digunakan untuk menentukan akurasi dari model secara lebih mendalam. Confusion matrix menunjukkan 4 jenis angka, yaitu:\n",
    "- True negatives\n",
    "- False negatives\n",
    "- False positives\n",
    "- True positives\n",
    "\n",
    "Confusion matrix dari setiap model/algoritma akan berbeda. Kita dapat menentukan algoritma mana yang akan kita gunakan berdasarkan confusion matrix, tergantung dari kasus yang dihadapi, mana yang lebih berbahaya apakah false negatives atau false positives. Dalam kasus prediksi kelulusan e-learning, seharusnya kita akan lebih memilih model yang memberikan nilai false positives lebih kecil, agar peserta e-learning tetap belajar"
   ]
  },
  {
   "cell_type": "markdown",
   "metadata": {},
   "source": [
    "### Error Rate K Algoritma KNN"
   ]
  },
  {
   "cell_type": "code",
   "execution_count": 34,
   "metadata": {},
   "outputs": [
    {
     "data": {
      "text/plain": [
       "Text(0, 0.5, 'Error mean')"
      ]
     },
     "execution_count": 34,
     "metadata": {},
     "output_type": "execute_result"
    },
    {
     "data": {
      "image/png": "[encoded data removed]",
      "text/plain": [
       "<Figure size 864x432 with 1 Axes>"
      ]
     },
     "metadata": {
      "needs_background": "light"
     },
     "output_type": "display_data"
    }
   ],
   "source": [
    "error = []\n",
    "\n",
    "# Calculating error for K values between 1 and 40\n",
    "for i in range(1, 40):  \n",
    "    knn = KNeighborsClassifier(n_neighbors=i)\n",
    "    knn.fit(knn_x_train, knn_y_train)\n",
    "    pred_i = knn.predict(knn_x_test)\n",
    "    error.append(np.mean(pred_i != knn_y_test))\n",
    "\n",
    "# Plot Error Rate\n",
    "plt.figure(figsize=(12, 6))  \n",
    "plt.plot(range(1, 40), error, color='red', linestyle='dashed', marker='o', markerfacecolor='blue', markersize=10)\n",
    "plt.title('Error Rate K')  \n",
    "plt.xlabel('K')  \n",
    "plt.ylabel('Error mean')"
   ]
  },
  {
   "cell_type": "markdown",
   "metadata": {},
   "source": [
    "Dari hasil plotting error rate tersebut, **model yang optimal dapat diperoleh dengan menentukan jumlah neighbor = 8**"
   ]
  },
  {
   "cell_type": "markdown",
   "metadata": {},
   "source": [
    "### Feature Importance dari Random Forest"
   ]
  },
  {
   "cell_type": "code",
   "execution_count": 35,
   "metadata": {},
   "outputs": [
    {
     "data": {
      "text/plain": [
       "PRE TEST    0.764437\n",
       "DIVISI      0.135633\n",
       "HCBP        0.070207\n",
       "CFU/FU      0.029723\n",
       "dtype: float64"
      ]
     },
     "execution_count": 35,
     "metadata": {},
     "output_type": "execute_result"
    }
   ],
   "source": [
    "feature_importance = pd.Series(RF.feature_importances_, index=rf_x_train.columns).sort_values(ascending=False)\n",
    "feature_importance"
   ]
  },
  {
   "cell_type": "code",
   "execution_count": 36,
   "metadata": {},
   "outputs": [
    {
     "name": "stderr",
     "output_type": "stream",
     "text": [
      "No handles with labels found to put in legend.\n"
     ]
    },
    {
     "data": {
      "image/png": "[encoded data removed]",
      "text/plain": [
       "<Figure size 432x288 with 1 Axes>"
      ]
     },
     "metadata": {
      "needs_background": "light"
     },
     "output_type": "display_data"
    }
   ],
   "source": [
    "# Create bplot\n",
    "sns.barplot(x=feature_importance, y=feature_importance.index)\n",
    "\n",
    "# Tambahkan label\n",
    "plt.xlabel('Feature Importance Score')\n",
    "plt.ylabel('Features')\n",
    "plt.title(\"Visualizing Important Features\")\n",
    "plt.legend()\n",
    "plt.show()"
   ]
  },
  {
   "cell_type": "markdown",
   "metadata": {},
   "source": [
    "Dari hasil tersebut, dapat dilihat bahwa nilai **Pre Test sangat penting untuk memprediksi kelulusan seseorang dalam e-Learning**"
   ]
  },
  {
   "cell_type": "markdown",
   "metadata": {},
   "source": [
    " ## Conclusion\n",
    "  "
   ]
  },
  {
   "cell_type": "code",
   "execution_count": 37,
   "metadata": {},
   "outputs": [
    {
     "name": "stdout",
     "output_type": "stream",
     "text": [
      "Akurasi Logistic Regression:  0.8906385727331447\n",
      "Akurasi KNN:  0.8912622224202063\n",
      "Akurasi Naive Bayes:  0.8401674944873823\n",
      "Akurasi Decision Tree:  0.8904158407020514\n",
      "Akurasi Random Forest:  0.890393567498942\n"
     ]
    }
   ],
   "source": [
    "print('Akurasi Logistic Regression: ', LR_acc)\n",
    "print('Akurasi KNN: ', KNN_acc)\n",
    "print('Akurasi Naive Bayes: ', NB_acc)\n",
    "print('Akurasi Decision Tree: ', DT_acc)\n",
    "print('Akurasi Random Forest: ', RF_acc)"
   ]
  },
  {
   "cell_type": "markdown",
   "metadata": {},
   "source": [
    "Dari hasil pengembangan model prediksi kelulusan e-learning yang sudah dilakukan, model yang memberikan akurasi tertinggi adalah **K-Nearest Neighbor**, dengan **jumlah neighbor di-set = 6**. Selain itu diperoleh bahwa **fitur yang paling penting dalam model prediksi ini adalah nilai Pre Test**, walaupun untuk memilih model mana yang sebaiknya digunakan **kita harus melihat confusion matrix** terlebih dahulu dan menentukan faktor apa yang lebih penting untuk digunakan."
   ]
  },
  {
   "cell_type": "code",
   "execution_count": null,
   "metadata": {},
   "outputs": [],
   "source": []
  }
 ],
 "metadata": {
  "kernelspec": {
   "display_name": "Python 3",
   "language": "python",
   "name": "python3"
  },
  "language_info": {
   "codemirror_mode": {
    "name": "ipython",
    "version": 3
   },
   "file_extension": ".py",
   "mimetype": "text/x-python",
   "name": "python",
   "nbconvert_exporter": "python",
   "pygments_lexer": "ipython3",
   "version": "3.7.3"
  }
 },
 "nbformat": 4,
 "nbformat_minor": 2
}
